{
 "cells": [
  {
   "attachments": {},
   "cell_type": "markdown",
   "metadata": {},
   "source": [
    "# Brokerage/Tradier Development\n",
    "- Switch to Paper Trading API"
   ]
  },
  {
   "cell_type": "code",
   "execution_count": 1,
   "metadata": {},
   "outputs": [],
   "source": [
    "# import dependencies\n",
    "import numpy as np\n",
    "import scipy as sp\n",
    "import dask.dataframe as dd\n",
    "import pandas as pd\n",
    "import matplotlib.pyplot as plt\n",
    "import seaborn as sns\n",
    "import joblib as jl\n",
    "import datetime as dt\n",
    "import requests\n",
    "\n",
    "from icecream import ic\n",
    "\n",
    "import os\n",
    "from dotenv import load_dotenv\n",
    "\n",
    "from ta import add_all_ta_features\n",
    "from ta.trend import MACD\n",
    "from ta.volatility import BollingerBands\n",
    "from ta.volume import VolumeWeightedAveragePrice\n",
    "from ta.momentum import StochRSIIndicator"
   ]
  },
  {
   "cell_type": "code",
   "execution_count": 2,
   "metadata": {},
   "outputs": [],
   "source": [
    "load_dotenv()\n",
    "TOKEN = os.getenv('TOKEN')"
   ]
  },
  {
   "cell_type": "code",
   "execution_count": 3,
   "metadata": {},
   "outputs": [
    {
     "name": "stdout",
     "output_type": "stream",
     "text": [
      "progress 1\n",
      "progress 2\n"
     ]
    }
   ],
   "source": [
    "tickers = ['SPY', 'QQQ']\n",
    "d = {}\n",
    "\n",
    "for i in range(len(tickers)): \n",
    "\n",
    "    response = requests.get('https://api.tradier.com/v1/markets/history',\n",
    "        params={'symbol': tickers[i], 'interval': 'daily', 'start': '2019-01-01', 'end': '2023-01-01'},\n",
    "        headers={'Authorization': TOKEN, 'Accept': 'application/json'}\n",
    "    )\n",
    "    json_response = response.json()\n",
    "    #print(\"Response Status Code:\", response.status_code)\n",
    "    i = i + 1\n",
    "    print(\"progress\", i)\n",
    "    for symbol in tickers:\n",
    "        d[symbol] = pd.DataFrame.from_records(json_response['history']['day'], index='date')\n",
    "\n",
    "        indicator_macd = MACD(close = d[symbol]['close'], window_slow=26, window_fast=12, window_sign=9, fillna=True)\n",
    "        d[symbol]['macd'] = indicator_macd.macd()\n",
    "        d[symbol]['macd_diff'] = indicator_macd.macd_diff()\n",
    "        d[symbol]['macd_signal'] = indicator_macd.macd_signal()\n",
    "\n",
    "        indicator_bb = BollingerBands(close = d[symbol]['close'], window=20, window_dev=2, fillna=True)\n",
    "        d[symbol]['bb_mavg'] = indicator_bb.bollinger_mavg()\n",
    "        d[symbol]['bb_hband'] = indicator_bb.bollinger_hband()\n",
    "        d[symbol]['bb_lband'] = indicator_bb.bollinger_lband()\n",
    "        d[symbol]['bb_hband_ind'] = indicator_bb.bollinger_hband_indicator()\n",
    "        d[symbol]['bb_lband_ind'] = indicator_bb.bollinger_lband_indicator()\n",
    "\n",
    "        indicator_vwap = VolumeWeightedAveragePrice(\n",
    "            high = d[symbol]['high'],\n",
    "            low = d[symbol]['low'],\n",
    "            close = d[symbol]['close'],\n",
    "            volume = d[symbol]['volume'],\n",
    "            window=14, fillna=True)\n",
    "        d[symbol]['vwap'] = indicator_vwap.volume_weighted_average_price()\n",
    "\n",
    "        indicator_stochrsi = StochRSIIndicator(close = d[symbol]['close'], window=14, smooth1=3, smooth2=3, fillna=True)\n",
    "        d[symbol]['stoch_rsi'] = indicator_stochrsi.stochrsi()\n",
    "        d[symbol]['stochrsi_d'] = indicator_stochrsi.stochrsi_d()\n",
    "        d[symbol]['stochrsi_k'] = indicator_stochrsi.stochrsi_k()"
   ]
  },
  {
   "cell_type": "code",
   "execution_count": 4,
   "metadata": {},
   "outputs": [
    {
     "name": "stdout",
     "output_type": "stream",
     "text": [
      "Status Code: 200\n"
     ]
    }
   ],
   "source": [
    "# pull watchlist\n",
    "\n",
    "response = requests.get('https://api.tradier.com/v1/watchlists/CNBC_INDEX_LIST',\n",
    "    params={},\n",
    "    headers={'Authorization': TOKEN, 'Accept': 'application/json'}\n",
    ")\n",
    "json_response = response.json()\n",
    "print('Status Code:', response.status_code)"
   ]
  },
  {
   "cell_type": "code",
   "execution_count": 5,
   "metadata": {},
   "outputs": [],
   "source": [
    "#tickers_df = pd.DataFrame.from_records(json_response['watchlist']['items']['item'])\n",
    "#tickers = list(pd.read_csv('data/etf_list.csv').Symbol)"
   ]
  },
  {
   "cell_type": "code",
   "execution_count": 6,
   "metadata": {},
   "outputs": [
    {
     "name": "stdout",
     "output_type": "stream",
     "text": [
      "200\n"
     ]
    }
   ],
   "source": [
    "response = requests.get('https://api.tradier.com/beta/markets/fundamentals/financials',\n",
    "    params={'symbols': 'AAPL'},\n",
    "    headers={'Authorization': TOKEN, 'Accept': 'application/json'}\n",
    ")\n",
    "json_response = response.json()\n",
    "print(response.status_code)\n",
    "#print(json_response)"
   ]
  }
 ],
 "metadata": {
  "kernelspec": {
   "display_name": "honors-thesis",
   "language": "python",
   "name": "python3"
  },
  "language_info": {
   "codemirror_mode": {
    "name": "ipython",
    "version": 3
   },
   "file_extension": ".py",
   "mimetype": "text/x-python",
   "name": "python",
   "nbconvert_exporter": "python",
   "pygments_lexer": "ipython3",
   "version": "3.10.9"
  },
  "orig_nbformat": 4,
  "vscode": {
   "interpreter": {
    "hash": "5cec9fab241fb47ace68fb2f1a373c81bce58fef94d497d1b6d3a75b16829e6c"
   }
  }
 },
 "nbformat": 4,
 "nbformat_minor": 2
}
