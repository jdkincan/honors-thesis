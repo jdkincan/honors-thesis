{
 "cells": [
  {
   "attachments": {},
   "cell_type": "markdown",
   "metadata": {},
   "source": [
    "## Data Importation, Cleaning, and Transformation\n",
    "\n",
    "Data Source: https://eodhistoricaldata.com/"
   ]
  },
  {
   "attachments": {},
   "cell_type": "markdown",
   "metadata": {},
   "source": [
    "### Import Dependencies"
   ]
  },
  {
   "cell_type": "code",
   "execution_count": 1,
   "metadata": {},
   "outputs": [],
   "source": [
    "# import dependencies\n",
    "import numpy as np\n",
    "import scipy as sp\n",
    "import dask.dataframe as dd\n",
    "import pandas as pd\n",
    "import matplotlib.pyplot as plt\n",
    "import seaborn as sns\n",
    "import joblib as jl\n",
    "import datetime as dt\n",
    "import requests\n",
    "\n",
    "from icecream import ic\n",
    "\n",
    "import os\n",
    "from dotenv import load_dotenv\n",
    "\n",
    "from ta import add_all_ta_features\n",
    "from ta.trend import MACD\n",
    "from ta.volatility import BollingerBands\n",
    "from ta.volume import VolumeWeightedAveragePrice\n",
    "from ta.momentum import StochRSIIndicator"
   ]
  },
  {
   "cell_type": "code",
   "execution_count": 2,
   "metadata": {},
   "outputs": [],
   "source": [
    "# load API keys from .env file\n",
    "load_dotenv()\n",
    "TRADIER_TOKEN = os.getenv('TRADIER_TOKEN')\n",
    "EOD_TOKEN = os.getenv('EOD_TOKEN')"
   ]
  },
  {
   "cell_type": "code",
   "execution_count": 3,
   "metadata": {},
   "outputs": [],
   "source": [
    "df = pd.read_csv('data/etf_list.csv')"
   ]
  },
  {
   "attachments": {},
   "cell_type": "markdown",
   "metadata": {},
   "source": [
    "### Get Tickers"
   ]
  },
  {
   "cell_type": "code",
   "execution_count": 4,
   "metadata": {},
   "outputs": [],
   "source": [
    "def get_etf_tickers(): \n",
    "    \n",
    "    # pulls all tickers of ETFs on NYSE or NASDAQ\n",
    "\n",
    "    r = requests.get('https://eodhistoricaldata.com/api/exchange-symbol-list/US', \n",
    "        params={'api_token': EOD_TOKEN, 'fmt': 'json'}\n",
    "        )\n",
    "    data = r.json()\n",
    "    r.close()\n",
    "\n",
    "    df = pd.DataFrame(data)\n",
    "    df = df[\n",
    "        (df.Type == 'ETF') &\n",
    "        ((df.Exchange == 'NYSE ARCA') |\n",
    "        (df.Exchange == 'NASDAQ'))\n",
    "        ]\n",
    "\n",
    "    df.index = df.Code\n",
    "    df.drop('Code', axis = 1, inplace=True)\n",
    "    ticker_list = list(df.index)\n",
    "    return ticker_list"
   ]
  },
  {
   "cell_type": "code",
   "execution_count": 235,
   "metadata": {},
   "outputs": [],
   "source": [
    "# get etf tickers\n",
    "# tickers = get_etf_tickers()"
   ]
  },
  {
   "cell_type": "code",
   "execution_count": 5,
   "metadata": {},
   "outputs": [],
   "source": [
    "# save ticker list to csv\n",
    "# df = pd.DataFrame(tickers)\n",
    "# df.to_csv('data/tickers.csv')"
   ]
  },
  {
   "attachments": {},
   "cell_type": "markdown",
   "metadata": {},
   "source": [
    "### Get Historical Price"
   ]
  },
  {
   "cell_type": "code",
   "execution_count": 101,
   "metadata": {},
   "outputs": [],
   "source": [
    "def get_historical_price(tickers, data_type):\n",
    "\n",
    "    # pulls historical daily or intraday OLHC prices and volume\n",
    "\n",
    "    d = {}\n",
    "\n",
    "    for i in range(len(tickers)): \n",
    "\n",
    "        r = requests.get('https://eodhistoricaldata.com/api' + '/' + data_type + '/' + tickers[i] + '.US', \n",
    "            params={'api_token': EOD_TOKEN, 'fmt': 'json'}\n",
    "            )\n",
    "        data = r.json()\n",
    "        r.close()\n",
    "\n",
    "        d[tickers[i]] = data\n",
    "\n",
    "        # ADD PROGRESS BAR\n",
    "        \n",
    "        # remove unecessary loop\n",
    "        d[tickers[i]] = pd.DataFrame.from_records(data)\n",
    "\n",
    "        indicator_macd = MACD(close = d[tickers[i]]['close'], window_slow=26, window_fast=12, window_sign=9, fillna=True)\n",
    "        d[tickers[i]]['macd'] = indicator_macd.macd()\n",
    "        d[tickers[i]]['macd_diff'] = indicator_macd.macd_diff()\n",
    "        d[tickers[i]]['macd_signal'] = indicator_macd.macd_signal()\n",
    "\n",
    "        indicator_bb = BollingerBands(close = d[tickers[i]]['close'], window=20, window_dev=2, fillna=True)\n",
    "        d[tickers[i]]['bb_mavg'] = indicator_bb.bollinger_mavg()\n",
    "        d[tickers[i]]['bb_hband'] = indicator_bb.bollinger_hband()\n",
    "        d[tickers[i]]['bb_lband'] = indicator_bb.bollinger_lband()\n",
    "        d[tickers[i]]['bb_hband_ind'] = indicator_bb.bollinger_hband_indicator()\n",
    "        d[tickers[i]]['bb_lband_ind'] = indicator_bb.bollinger_lband_indicator()\n",
    "\n",
    "        indicator_vwap = VolumeWeightedAveragePrice(\n",
    "            high = d[tickers[i]]['high'],\n",
    "            low = d[tickers[i]]['low'],\n",
    "            close = d[tickers[i]]['close'],\n",
    "            volume = d[tickers[i]]['volume'],\n",
    "            window=14, fillna=True)\n",
    "        d[tickers[i]]['vwap'] = indicator_vwap.volume_weighted_average_price()\n",
    "\n",
    "        indicator_stochrsi = StochRSIIndicator(close = d[tickers[i]]['close'], window=14, smooth1=3, smooth2=3, fillna=True)\n",
    "        d[tickers[i]]['stoch_rsi'] = indicator_stochrsi.stochrsi()\n",
    "        d[tickers[i]]['stochrsi_d'] = indicator_stochrsi.stochrsi_d()\n",
    "        d[tickers[i]]['stochrsi_k'] = indicator_stochrsi.stochrsi_k()\n",
    "\n",
    "    return d"
   ]
  },
  {
   "cell_type": "code",
   "execution_count": 103,
   "metadata": {},
   "outputs": [],
   "source": [
    "# placeholder tickers\n",
    "tickers = ['SPXS', 'SPXL']\n",
    "\n",
    "# get intraday prices | dictionary of dataframes\n",
    "intraday_data = get_historical_price(tickers, 'intraday')\n",
    "\n",
    "# get daily prices | dictionary of dataframes\n",
    "daily_data = get_historical_price(tickers, 'eod')"
   ]
  },
  {
   "cell_type": "code",
   "execution_count": 104,
   "metadata": {},
   "outputs": [],
   "source": [
    "# concat intraday dataframes together and convert to dask df\n",
    "intraday_df = pd.concat(intraday_data.values(), axis=1, keys=intraday_data.keys())\n",
    "intraday_dask_df = dd.from_pandas(intraday_df, npartitions=6)\n",
    "\n",
    "# concat daily dataframes together and convert to dask df\n",
    "daily_df = pd.concat(daily_data.values(), axis=1, keys=daily_data.keys())\n",
    "daily_dask_df = dd.from_pandas(daily_df, npartitions=6)\n",
    "\n",
    "#daily_df.to_csv('data/test_daily_df.csv')"
   ]
  },
  {
   "cell_type": "code",
   "execution_count": 154,
   "metadata": {},
   "outputs": [
    {
     "data": {
      "text/plain": [
       "0        3.3851\n",
       "1        2.8673\n",
       "2        3.0698\n",
       "3        2.9503\n",
       "4        2.7549\n",
       "         ...   \n",
       "3584    79.0300\n",
       "3585    76.5300\n",
       "3586    75.1500\n",
       "3587    78.0000\n",
       "3588    75.5000\n",
       "Name: adjusted_close, Length: 3589, dtype: float64"
      ]
     },
     "execution_count": 154,
     "metadata": {},
     "output_type": "execute_result"
    }
   ],
   "source": [
    "daily_df['SPXL'].adjusted_close\n",
    "#daily_df['SPXS'].adjusted_close"
   ]
  },
  {
   "attachments": {},
   "cell_type": "markdown",
   "metadata": {},
   "source": [
    "### Get ETF Fundementals"
   ]
  },
  {
   "cell_type": "code",
   "execution_count": 204,
   "metadata": {},
   "outputs": [],
   "source": [
    "def get_etf_fundementals(tickers): \n",
    "\n",
    "    # pulls fundementals and wrangles data into multiple dfs\n",
    "\n",
    "    raw_data = {}\n",
    "    #single_ticker_clean_data = {}\n",
    "    all_clean_data = {}\n",
    "\n",
    "\n",
    "    columns = ['ISIN', 'Company_Name', 'Company_URL', 'ETF_URL', 'Domicile',\n",
    "        'Index_Name', 'Yield', 'Dividend_Paying_Frequency', 'Inception_Date',\n",
    "        'Max_Annual_Mgmt_Charge', 'Ongoing_Charge', 'Date_Ongoing_Charge',\n",
    "        'NetExpenseRatio', 'AnnualHoldingsTurnover', 'TotalAssets', 'Holdings_Count',\n",
    "        'Average_Mkt_Cap_Mil']\n",
    "\n",
    "    for i in range(len(tickers)): \n",
    "\n",
    "        single_ticker_clean_data = {}\n",
    "        \n",
    "        r = requests.get('https://eodhistoricaldata.com/api/fundamentals/' + tickers[i] + '.US', \n",
    "            params={'api_token': '63dc0e2f4efc43.34327983', 'fmt': 'json'}\n",
    "            )\n",
    "        data = r.json()\n",
    "        \n",
    "        r.close()\n",
    "\n",
    "        # place raw data for each ticker inside nested dict\n",
    "        raw_data[tickers[i]] = data    \n",
    "\n",
    "        a = pd.Series(raw_data[tickers[i]]['General'])\n",
    "\n",
    "        b = pd.Series([raw_data[tickers[i]]['ETF_Data'][name] for name in columns],\n",
    "            index=[name for name in columns])\n",
    "\n",
    "        # figure out fix\n",
    "        # c = pd.DataFrame([d[tickers[i]]['ETF_Data']['Market_Capitalisation']])#,\n",
    "        # index = [d[tickers[i]]['ETF_Data']['Market_Capitalisation'].keys()])\n",
    "        # c = pd.Series(d[symbol]['ETF_Data']['Market_Capitalisation'],\n",
    "        #  index = ['Market_Capitalisation'])\n",
    "\n",
    "\n",
    "        c = pd.Series(raw_data[tickers[i]]['ETF_Data']['MorningStar'])\n",
    "\n",
    "        # figure out fix\n",
    "        single_ticker_clean_data['Performance'] = pd.DataFrame(\n",
    "            raw_data[tickers[i]]['ETF_Data']['Performance'].items(),\n",
    "            index = raw_data[tickers[i]]['ETF_Data']['Performance'].keys()).drop(0, axis=1)\n",
    "        \n",
    "        single_ticker_clean_data['Technicals'] = pd.Series(\n",
    "            raw_data[tickers[i]]['Technicals'])\n",
    "\n",
    "        single_ticker_clean_data['general'] = pd.DataFrame(pd.concat([a, b, c]),\n",
    "            columns = ['data'],\n",
    "            )\n",
    "        single_ticker_clean_data['asset_allocation'] = pd.DataFrame(raw_data[tickers[i]]['ETF_Data']['Asset_Allocation'])\n",
    "        # fix this\n",
    "        region_weights_df = pd.DataFrame(raw_data[tickers[i]]['ETF_Data']['World_Regions'])\n",
    "        sector_weights_df = pd.DataFrame(raw_data[tickers[i]]['ETF_Data']['Sector_Weights'])\n",
    "        single_ticker_clean_data['fixed_income'] = pd.DataFrame(raw_data[tickers[i]]['ETF_Data']['Fixed_Income'])\n",
    "        single_ticker_clean_data['top_10_holdings'] = pd.DataFrame(raw_data[tickers[i]]['ETF_Data']['Top_10_Holdings'].values(), index = raw_data[tickers[i]]['ETF_Data']['Top_10_Holdings'].keys())\n",
    "        single_ticker_clean_data['holdings'] = pd.DataFrame(raw_data[tickers[i]]['ETF_Data']['Holdings'].values(), index = raw_data[tickers[i]]['ETF_Data']['Holdings'].keys())\n",
    "        single_ticker_clean_data['valuations_growth'] = pd.DataFrame(raw_data[tickers[i]]['ETF_Data']['Valuations_Growth']).T\n",
    "\n",
    "        # fix this\n",
    "        placeholder = {}\n",
    "        placeholder['region_weights'] = region_weights_df\n",
    "        placeholder['sector_weights'] = sector_weights_df\n",
    "        weights_df = pd.concat(placeholder.values(), axis=1, keys=placeholder.keys())\n",
    "        single_ticker_clean_data['weights'] = weights_df.copy()\n",
    "\n",
    "        all_clean_data[tickers[i]] = single_ticker_clean_data\n",
    "\n",
    "\n",
    "    return all_clean_data"
   ]
  },
  {
   "cell_type": "code",
   "execution_count": 231,
   "metadata": {},
   "outputs": [],
   "source": [
    "# # placeholder tickers\n",
    "tickers = ['SPXL', 'SPXS']\n",
    "\n",
    "# # get fundemental data\n",
    "etf_fundemental_data = get_etf_fundementals(tickers)"
   ]
  },
  {
   "cell_type": "code",
   "execution_count": 234,
   "metadata": {},
   "outputs": [
    {
     "data": {
      "text/plain": [
       "dict_keys(['Performance', 'Technicals', 'general', 'asset_allocation', 'fixed_income', 'top_10_holdings', 'holdings', 'valuations_growth', 'weights'])"
      ]
     },
     "execution_count": 234,
     "metadata": {},
     "output_type": "execute_result"
    }
   ],
   "source": [
    "etf_fundemental_data['SPXL'].keys()"
   ]
  },
  {
   "attachments": {},
   "cell_type": "markdown",
   "metadata": {},
   "source": [
    "### Get Stock Fundementals"
   ]
  },
  {
   "cell_type": "code",
   "execution_count": 224,
   "metadata": {},
   "outputs": [],
   "source": [
    "def get_stock_fundmentals(tickers): \n",
    "\n",
    "    raw_data = {}\n",
    "    all_clean_data = {}\n",
    "\n",
    "    columns = ['General', 'Highlights']\n",
    "\n",
    "    for i in range(len(tickers)): \n",
    "\n",
    "        single_ticker_clean_data = {}\n",
    "\n",
    "        r = requests.get('https://eodhistoricaldata.com/api/fundamentals/' + tickers[i] + '.US', \n",
    "            params={'api_token': '63dc0e2f4efc43.34327983', 'fmt': 'json'}\n",
    "            )\n",
    "        data = r.json()\n",
    "        \n",
    "        r.close()\n",
    "\n",
    "        raw_data[tickers[i]] = data\n",
    "        \n",
    "        Officers = raw_data[tickers[i]]['General'].pop('Officers', None)\n",
    "        Listings = raw_data[tickers[i]]['General'].pop('Listings', None)\n",
    "        AddressData = raw_data[tickers[i]]['General'].pop('AddressData', None)\n",
    "        NumberDividendsByYear = raw_data[tickers[i]]['SplitsDividends'].pop('NumberDividendsByYear', None)\n",
    "\n",
    "        columns = ['General', 'Highlights', 'Valuation', 'SharesStats',\n",
    "            'Technicals','SplitsDividends', 'AnalystRatings']\n",
    "        for name in columns:\n",
    "            single_ticker_clean_data[name] = pd.Series(raw_data[tickers[i]][name])\n",
    "\n",
    "        columns = ['Institutions', 'Funds']\n",
    "        for name in columns:\n",
    "            single_ticker_clean_data[name] = pd.DataFrame(\n",
    "                raw_data[tickers[i]]['Holders'][name]).T.set_index(['name'])\n",
    "        single_ticker_clean_data['Holders'] = pd.concat([single_ticker_clean_data['Institutions'], single_ticker_clean_data['Funds']],\n",
    "            keys=['Institutions','Funds'])\n",
    "        Institutions = single_ticker_clean_data.pop('Institutions', None)\n",
    "        Funds = single_ticker_clean_data.pop('Funds', None)\n",
    "\n",
    "        single_ticker_clean_data['InsiderTransactions'] = pd.DataFrame(\n",
    "            raw_data[tickers[i]]['InsiderTransactions']).T.set_index(['date'])\n",
    "\n",
    "        columns = ['annual', 'quarterly']\n",
    "        for name in columns:\n",
    "            single_ticker_clean_data[name] = pd.DataFrame(\n",
    "                raw_data[tickers[i]]['outstandingShares'][name]).T.set_index(['dateFormatted'])\n",
    "        single_ticker_clean_data['outstandingShares'] = single_ticker_clean_data['quarterly'].join(\n",
    "            single_ticker_clean_data['annual'], lsuffix='_quarterly', rsuffix='_annual')\n",
    "        Institutions = single_ticker_clean_data.pop('quarterly', None)\n",
    "        Funds = single_ticker_clean_data.pop('annual', None)\n",
    "\n",
    "        # join on date\n",
    "        columns = ['History', 'Trend', 'Annual']\n",
    "        for name in columns:\n",
    "            single_ticker_clean_data[name] = pd.DataFrame(raw_data[tickers[i]]['Earnings'][name]).T\n",
    "        single_ticker_clean_data['Earnings'] = pd.concat([single_ticker_clean_data['History'], \n",
    "            single_ticker_clean_data['Trend'], single_ticker_clean_data['Annual']],\n",
    "            keys=['History', 'Trend', 'Annual'], axis=1)\n",
    "        History = single_ticker_clean_data.pop('History', None)\n",
    "        Trend = single_ticker_clean_data.pop('Trend', None)\n",
    "        Annual = single_ticker_clean_data.pop('Annual', None)\n",
    "\n",
    "        statements = ['Balance_Sheet', 'Income_Statement', 'Cash_Flow']\n",
    "        period = ['quarterly', 'yearly']\n",
    "\n",
    "        for statement in statements:\n",
    "            for time in period:\n",
    "                # join on date\n",
    "                single_ticker_clean_data[statement + time] = pd.DataFrame(\n",
    "                    raw_data[tickers[i]]['Financials'][statement][time]).T\n",
    "\n",
    "        # single_ticker_clean_data['Balance_Sheet'] = fundemental_data['Balance_Sheetquarterly'].join(\n",
    "        #     fundemental_data['Balance_Sheetyearly'], lsuffix='_quarterly', rsuffix='_annual')\n",
    "        single_ticker_clean_data['Balance_Sheet'] = pd.concat([single_ticker_clean_data['Balance_Sheetquarterly'], \n",
    "            single_ticker_clean_data['Balance_Sheetyearly']],\n",
    "            keys=['Quarterly', 'Yearly'], axis=1)\n",
    "        Balance_Sheetyearly = single_ticker_clean_data.pop('Balance_Sheetyearly', None)\n",
    "        Balance_Sheetquarterly = single_ticker_clean_data.pop('Balance_Sheetquarterly', None)\n",
    "\n",
    "        single_ticker_clean_data['Income_Statement'] = pd.concat([single_ticker_clean_data['Income_Statementquarterly'], \n",
    "            single_ticker_clean_data['Income_Statementyearly']],\n",
    "            keys=['Quarterly', 'Yearly'], axis=1)\n",
    "        Income_Statementyearly = single_ticker_clean_data.pop('Income_Statementyearly', None)\n",
    "        Income_Statementquarterly = single_ticker_clean_data.pop('Income_Statementquarterly', None)\n",
    "\n",
    "        \n",
    "        single_ticker_clean_data['Cash_Flow'] = pd.concat([single_ticker_clean_data['Cash_Flowquarterly'], \n",
    "            single_ticker_clean_data['Cash_Flowyearly']],\n",
    "            keys=['Quarterly', 'Yearly'], axis=1)\n",
    "        Cash_Flowyearly = single_ticker_clean_data.pop('Cash_Flowyearly', None)\n",
    "        Cash_Flowquarterly = single_ticker_clean_data.pop('Cash_Flowquarterly', None)\n",
    "\n",
    "        all_clean_data[tickers[i]] = single_ticker_clean_data\n",
    "\n",
    "\n",
    "\n",
    "    return all_clean_data"
   ]
  },
  {
   "cell_type": "code",
   "execution_count": 225,
   "metadata": {},
   "outputs": [],
   "source": [
    "tickers = ['MSFT', 'AMZN']\n",
    "stock_fundemental_data  = get_stock_fundmentals(tickers)"
   ]
  },
  {
   "cell_type": "code",
   "execution_count": 229,
   "metadata": {},
   "outputs": [
    {
     "name": "stdout",
     "output_type": "stream",
     "text": [
      "MSFT\n",
      "29.7289\n",
      "\n",
      "\n",
      "AMZN\n",
      "102.11\n",
      "\n",
      "\n"
     ]
    }
   ],
   "source": [
    "for ticker in tickers:\n",
    "    print(ticker)\n",
    "    print(stock_fundemental_data[ticker]['Highlights'].PERatio)\n",
    "    #print(etf_fundemental_data[ticker]['Performance'])\n",
    "    print('\\n')"
   ]
  }
 ],
 "metadata": {
  "kernelspec": {
   "display_name": "honors-thesis",
   "language": "python",
   "name": "python3"
  },
  "language_info": {
   "codemirror_mode": {
    "name": "ipython",
    "version": 3
   },
   "file_extension": ".py",
   "mimetype": "text/x-python",
   "name": "python",
   "nbconvert_exporter": "python",
   "pygments_lexer": "ipython3",
   "version": "3.10.9"
  },
  "orig_nbformat": 4,
  "vscode": {
   "interpreter": {
    "hash": "5cec9fab241fb47ace68fb2f1a373c81bce58fef94d497d1b6d3a75b16829e6c"
   }
  }
 },
 "nbformat": 4,
 "nbformat_minor": 2
}
