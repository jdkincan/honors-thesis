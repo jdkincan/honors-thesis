{
 "cells": [
  {
   "attachments": {},
   "cell_type": "markdown",
   "metadata": {},
   "source": [
    "## Imports & Settings"
   ]
  },
  {
   "cell_type": "code",
   "execution_count": 284,
   "metadata": {},
   "outputs": [],
   "source": [
    "import warnings\n",
    "warnings.filterwarnings('ignore')"
   ]
  },
  {
   "cell_type": "code",
   "execution_count": 285,
   "metadata": {},
   "outputs": [],
   "source": [
    "%matplotlib inline\n",
    "\n",
    "from datetime import datetime\n",
    "import pandas as pd\n",
    "import pandas_datareader.data as web\n",
    "\n",
    "# replaces pyfinance.ols.PandasRollingOLS (no longer maintained)\n",
    "from statsmodels.regression.rolling import RollingOLS\n",
    "import statsmodels.api as sm\n",
    "\n",
    "import matplotlib.pyplot as plt\n",
    "import seaborn as sns"
   ]
  },
  {
   "cell_type": "code",
   "execution_count": 286,
   "metadata": {},
   "outputs": [],
   "source": [
    "sns.set_style('whitegrid')\n",
    "idx = pd.IndexSlice"
   ]
  },
  {
   "cell_type": "code",
   "execution_count": 287,
   "metadata": {},
   "outputs": [],
   "source": [
    "DATA_STORE = '../00_data/assets_v1.h5'\n",
    "START = '2000-01-01'"
   ]
  },
  {
   "attachments": {},
   "cell_type": "markdown",
   "metadata": {},
   "source": [
    "## Load Stock Data"
   ]
  },
  {
   "cell_type": "code",
   "execution_count": 288,
   "metadata": {},
   "outputs": [],
   "source": [
    "with pd.HDFStore(DATA_STORE) as store:\n",
    "    prices = (store['stocks/prices/daily']).loc[idx[:, :], 'adjusted_close'].unstack(0)\n",
    "    stocks = store['stocks/base_fundementals']"
   ]
  },
  {
   "cell_type": "code",
   "execution_count": 289,
   "metadata": {},
   "outputs": [
    {
     "name": "stdout",
     "output_type": "stream",
     "text": [
      "<class 'pandas.core.frame.DataFrame'>\n",
      "Index: 15392 entries, 1962-01-02 to 2023-02-22\n",
      "Columns: 503 entries, AAPL to NWS\n",
      "dtypes: float64(503)\n",
      "memory usage: 59.2+ MB\n"
     ]
    }
   ],
   "source": [
    "prices.info()"
   ]
  },
  {
   "cell_type": "code",
   "execution_count": 290,
   "metadata": {},
   "outputs": [
    {
     "data": {
      "text/plain": [
       "Code                                                                  AAPL\n",
       "Type                                                          Common Stock\n",
       "Name                                                             Apple Inc\n",
       "Exchange                                                            NASDAQ\n",
       "CurrencyCode                                                           USD\n",
       "CurrencyName                                                     US Dollar\n",
       "CurrencySymbol                                                           $\n",
       "CountryName                                                            USA\n",
       "CountryISO                                                              US\n",
       "ISIN                                                          US0378331005\n",
       "LEI                                                   HWUPKR0MPOU8FGXBT394\n",
       "CUSIP                                                            037833100\n",
       "CIK                                                                 320193\n",
       "EmployerIdNumber                                                94-2404110\n",
       "FiscalYearEnd                                                    September\n",
       "IPODate                                                         1980-12-12\n",
       "InternationalDomestic                               International/Domestic\n",
       "Sector                                                          Technology\n",
       "Industry                                              Consumer Electronics\n",
       "GicSector                                           Information Technology\n",
       "GicGroup                                   Technology Hardware & Equipment\n",
       "GicIndustry                     Technology Hardware, Storage & Peripherals\n",
       "GicSubIndustry                  Technology Hardware, Storage & Peripherals\n",
       "HomeCategory                                                      Domestic\n",
       "IsDelisted                                                           False\n",
       "Description              Apple Inc. designs, manufactures, and markets ...\n",
       "Address                  One Apple Park Way, Cupertino, CA, United Stat...\n",
       "Phone                                                         408 996 1010\n",
       "WebURL                                               https://www.apple.com\n",
       "LogoURL                                             /img/logos/US/aapl.png\n",
       "FullTimeEmployees                                                   164000\n",
       "UpdatedAt                                                       2023-02-22\n",
       "dtype: object"
      ]
     },
     "execution_count": 290,
     "metadata": {},
     "output_type": "execute_result"
    }
   ],
   "source": [
    "stocks['AAPL']['General']"
   ]
  },
  {
   "attachments": {},
   "cell_type": "markdown",
   "metadata": {},
   "source": [
    "## Data Cleaning"
   ]
  },
  {
   "cell_type": "code",
   "execution_count": 291,
   "metadata": {},
   "outputs": [],
   "source": [
    "stocks1 = pd.DataFrame(stocks.loc[idx[:, 'General', 'Sector']], columns= ['Sector'])\n",
    "stocks2 = pd.DataFrame(stocks.loc[idx[:, 'General', 'IPODate']], columns= ['IPODate'])\n",
    "stocks3 = pd.DataFrame(stocks.loc[idx[:, 'Highlights', 'MarketCapitalization']], columns= ['MarketCapitalization'])\n",
    "\n",
    "stocks = pd.concat([stocks1, stocks2, stocks3], axis=1)"
   ]
  },
  {
   "cell_type": "code",
   "execution_count": 292,
   "metadata": {},
   "outputs": [],
   "source": [
    "stocks = stocks[~stocks.index.duplicated()]\n",
    "stocks.index.name = 'ticker'\n",
    "shared = prices.columns.intersection(stocks.index)"
   ]
  },
  {
   "cell_type": "code",
   "execution_count": 293,
   "metadata": {},
   "outputs": [
    {
     "name": "stdout",
     "output_type": "stream",
     "text": [
      "<class 'pandas.core.frame.DataFrame'>\n",
      "Index: 503 entries, AAPL to NWS\n",
      "Data columns (total 3 columns):\n",
      " #   Column                Non-Null Count  Dtype \n",
      "---  ------                --------------  ----- \n",
      " 0   Sector                503 non-null    object\n",
      " 1   IPODate               503 non-null    object\n",
      " 2   MarketCapitalization  503 non-null    object\n",
      "dtypes: object(3)\n",
      "memory usage: 31.9+ KB\n"
     ]
    }
   ],
   "source": [
    "stocks = stocks.loc[shared, :]\n",
    "stocks.info()"
   ]
  },
  {
   "cell_type": "code",
   "execution_count": 294,
   "metadata": {},
   "outputs": [
    {
     "name": "stdout",
     "output_type": "stream",
     "text": [
      "<class 'pandas.core.frame.DataFrame'>\n",
      "Index: 15392 entries, 1962-01-02 to 2023-02-22\n",
      "Columns: 503 entries, AAPL to NWS\n",
      "dtypes: float64(503)\n",
      "memory usage: 59.2+ MB\n"
     ]
    }
   ],
   "source": [
    "prices = prices.loc[:, shared]\n",
    "prices.info()"
   ]
  },
  {
   "cell_type": "code",
   "execution_count": 295,
   "metadata": {},
   "outputs": [],
   "source": [
    "assert prices.shape[1] == stocks.shape[0]"
   ]
  },
  {
   "attachments": {},
   "cell_type": "markdown",
   "metadata": {},
   "source": [
    "## Create monthly return series"
   ]
  },
  {
   "cell_type": "code",
   "execution_count": 296,
   "metadata": {},
   "outputs": [
    {
     "name": "stdout",
     "output_type": "stream",
     "text": [
      "<class 'pandas.core.frame.DataFrame'>\n",
      "DatetimeIndex: 734 entries, 1962-01-31 to 2023-02-28\n",
      "Freq: M\n",
      "Columns: 503 entries, AAPL to NWS\n",
      "dtypes: float64(503)\n",
      "memory usage: 2.8 MB\n"
     ]
    }
   ],
   "source": [
    "prices.index = pd.to_datetime(prices.index)\n",
    "monthly_prices = prices.resample('M').last()\n",
    "monthly_prices.info()"
   ]
  },
  {
   "cell_type": "code",
   "execution_count": 297,
   "metadata": {},
   "outputs": [
    {
     "name": "stdout",
     "output_type": "stream",
     "text": [
      "<class 'pandas.core.frame.DataFrame'>\n",
      "MultiIndex: 185268 entries, ('JNJ', Timestamp('1963-01-31 00:00:00', freq='M')) to ('NWS', Timestamp('2023-02-28 00:00:00', freq='M'))\n",
      "Data columns (total 6 columns):\n",
      " #   Column      Non-Null Count   Dtype  \n",
      "---  ------      --------------   -----  \n",
      " 0   return_1m   185268 non-null  float64\n",
      " 1   return_2m   185268 non-null  float64\n",
      " 2   return_3m   185268 non-null  float64\n",
      " 3   return_6m   185268 non-null  float64\n",
      " 4   return_9m   185268 non-null  float64\n",
      " 5   return_12m  185268 non-null  float64\n",
      "dtypes: float64(6)\n",
      "memory usage: 9.2+ MB\n"
     ]
    }
   ],
   "source": [
    "outlier_cutoff = 0.01\n",
    "data = pd.DataFrame()\n",
    "lags = [1, 2, 3, 6, 9, 12]\n",
    "for lag in lags:\n",
    "    data[f'return_{lag}m'] = (monthly_prices\n",
    "                           .pct_change(lag)\n",
    "                           .stack()\n",
    "                           .pipe(lambda x: x.clip(lower=x.quantile(outlier_cutoff),\n",
    "                                                  upper=x.quantile(1-outlier_cutoff)))\n",
    "                           .add(1)\n",
    "                           .pow(1/lag)\n",
    "                           .sub(1)\n",
    "                           )\n",
    "data = data.swaplevel().dropna()\n",
    "data.info()"
   ]
  },
  {
   "cell_type": "code",
   "execution_count": 298,
   "metadata": {},
   "outputs": [
    {
     "name": "stdout",
     "output_type": "stream",
     "text": [
      "<class 'pandas.core.frame.DataFrame'>\n",
      "MultiIndex: 181871 entries, ('A', Timestamp('2000-11-30 00:00:00', freq='M')) to ('ZION', Timestamp('2023-02-28 00:00:00', freq='M'))\n",
      "Data columns (total 6 columns):\n",
      " #   Column      Non-Null Count   Dtype  \n",
      "---  ------      --------------   -----  \n",
      " 0   return_1m   181871 non-null  float64\n",
      " 1   return_2m   181871 non-null  float64\n",
      " 2   return_3m   181871 non-null  float64\n",
      " 3   return_6m   181871 non-null  float64\n",
      " 4   return_9m   181871 non-null  float64\n",
      " 5   return_12m  181871 non-null  float64\n",
      "dtypes: float64(6)\n",
      "memory usage: 9.1+ MB\n"
     ]
    }
   ],
   "source": [
    "min_obs = 120\n",
    "nobs = data.groupby(level=0).size()\n",
    "keep = nobs[nobs>min_obs].index\n",
    "\n",
    "data = data.loc[idx[keep,:], :]\n",
    "data.info()"
   ]
  },
  {
   "cell_type": "code",
   "execution_count": 299,
   "metadata": {},
   "outputs": [
    {
     "data": {
      "text/html": [
       "<div>\n",
       "<style scoped>\n",
       "    .dataframe tbody tr th:only-of-type {\n",
       "        vertical-align: middle;\n",
       "    }\n",
       "\n",
       "    .dataframe tbody tr th {\n",
       "        vertical-align: top;\n",
       "    }\n",
       "\n",
       "    .dataframe thead th {\n",
       "        text-align: right;\n",
       "    }\n",
       "</style>\n",
       "<table border=\"1\" class=\"dataframe\">\n",
       "  <thead>\n",
       "    <tr style=\"text-align: right;\">\n",
       "      <th></th>\n",
       "      <th>return_1m</th>\n",
       "      <th>return_2m</th>\n",
       "      <th>return_3m</th>\n",
       "      <th>return_6m</th>\n",
       "      <th>return_9m</th>\n",
       "      <th>return_12m</th>\n",
       "    </tr>\n",
       "  </thead>\n",
       "  <tbody>\n",
       "    <tr>\n",
       "      <th>count</th>\n",
       "      <td>181871.000000</td>\n",
       "      <td>181871.000000</td>\n",
       "      <td>181871.000000</td>\n",
       "      <td>181871.000000</td>\n",
       "      <td>181871.000000</td>\n",
       "      <td>181871.000000</td>\n",
       "    </tr>\n",
       "    <tr>\n",
       "      <th>mean</th>\n",
       "      <td>0.014187</td>\n",
       "      <td>0.012229</td>\n",
       "      <td>0.011463</td>\n",
       "      <td>0.010693</td>\n",
       "      <td>0.010458</td>\n",
       "      <td>0.010447</td>\n",
       "    </tr>\n",
       "    <tr>\n",
       "      <th>std</th>\n",
       "      <td>0.088873</td>\n",
       "      <td>0.062715</td>\n",
       "      <td>0.051218</td>\n",
       "      <td>0.036470</td>\n",
       "      <td>0.029805</td>\n",
       "      <td>0.025807</td>\n",
       "    </tr>\n",
       "    <tr>\n",
       "      <th>min</th>\n",
       "      <td>-0.243399</td>\n",
       "      <td>-0.183702</td>\n",
       "      <td>-0.151866</td>\n",
       "      <td>-0.106089</td>\n",
       "      <td>-0.083819</td>\n",
       "      <td>-0.069910</td>\n",
       "    </tr>\n",
       "    <tr>\n",
       "      <th>25%</th>\n",
       "      <td>-0.035914</td>\n",
       "      <td>-0.021779</td>\n",
       "      <td>-0.015800</td>\n",
       "      <td>-0.008580</td>\n",
       "      <td>-0.005180</td>\n",
       "      <td>-0.003247</td>\n",
       "    </tr>\n",
       "    <tr>\n",
       "      <th>50%</th>\n",
       "      <td>0.013001</td>\n",
       "      <td>0.013172</td>\n",
       "      <td>0.012864</td>\n",
       "      <td>0.011919</td>\n",
       "      <td>0.011482</td>\n",
       "      <td>0.011222</td>\n",
       "    </tr>\n",
       "    <tr>\n",
       "      <th>75%</th>\n",
       "      <td>0.062133</td>\n",
       "      <td>0.047171</td>\n",
       "      <td>0.040314</td>\n",
       "      <td>0.031072</td>\n",
       "      <td>0.027040</td>\n",
       "      <td>0.024923</td>\n",
       "    </tr>\n",
       "    <tr>\n",
       "      <th>max</th>\n",
       "      <td>0.301565</td>\n",
       "      <td>0.200808</td>\n",
       "      <td>0.162834</td>\n",
       "      <td>0.117844</td>\n",
       "      <td>0.097593</td>\n",
       "      <td>0.086196</td>\n",
       "    </tr>\n",
       "  </tbody>\n",
       "</table>\n",
       "</div>"
      ],
      "text/plain": [
       "           return_1m      return_2m      return_3m      return_6m  \\\n",
       "count  181871.000000  181871.000000  181871.000000  181871.000000   \n",
       "mean        0.014187       0.012229       0.011463       0.010693   \n",
       "std         0.088873       0.062715       0.051218       0.036470   \n",
       "min        -0.243399      -0.183702      -0.151866      -0.106089   \n",
       "25%        -0.035914      -0.021779      -0.015800      -0.008580   \n",
       "50%         0.013001       0.013172       0.012864       0.011919   \n",
       "75%         0.062133       0.047171       0.040314       0.031072   \n",
       "max         0.301565       0.200808       0.162834       0.117844   \n",
       "\n",
       "           return_9m     return_12m  \n",
       "count  181871.000000  181871.000000  \n",
       "mean        0.010458       0.010447  \n",
       "std         0.029805       0.025807  \n",
       "min        -0.083819      -0.069910  \n",
       "25%        -0.005180      -0.003247  \n",
       "50%         0.011482       0.011222  \n",
       "75%         0.027040       0.024923  \n",
       "max         0.097593       0.086196  "
      ]
     },
     "execution_count": 299,
     "metadata": {},
     "output_type": "execute_result"
    }
   ],
   "source": [
    "data.describe()"
   ]
  },
  {
   "cell_type": "code",
   "execution_count": 300,
   "metadata": {},
   "outputs": [
    {
     "data": {
      "text/plain": [
       "<seaborn.matrix.ClusterGrid at 0x7ffa35da96a0>"
      ]
     },
     "execution_count": 300,
     "metadata": {},
     "output_type": "execute_result"
    },
    {
     "data": {
      "image/png": "[encoded data removed]",
      "text/plain": [
       "<Figure size 1000x1000 with 4 Axes>"
      ]
     },
     "metadata": {},
     "output_type": "display_data"
    }
   ],
   "source": [
    "cmap = sns.diverging_palette(10, 220, as_cmap=True)\n",
    "sns.clustermap(data.corr('spearman'), annot=True, center=0, cmap='Blues')"
   ]
  },
  {
   "cell_type": "code",
   "execution_count": 301,
   "metadata": {},
   "outputs": [
    {
     "data": {
      "text/plain": [
       "459"
      ]
     },
     "execution_count": 301,
     "metadata": {},
     "output_type": "execute_result"
    }
   ],
   "source": [
    "data.index.get_level_values(0).nunique()"
   ]
  },
  {
   "attachments": {},
   "cell_type": "markdown",
   "metadata": {},
   "source": [
    "## Create Rolling Factor Betas"
   ]
  },
  {
   "cell_type": "code",
   "execution_count": 302,
   "metadata": {},
   "outputs": [
    {
     "name": "stdout",
     "output_type": "stream",
     "text": [
      "<class 'pandas.core.frame.DataFrame'>\n",
      "MultiIndex: 119619 entries, ('A', Timestamp('2000-11-30 00:00:00', freq='M')) to ('ZION', Timestamp('2022-12-31 00:00:00', freq='M'))\n",
      "Data columns (total 6 columns):\n",
      " #   Column     Non-Null Count   Dtype  \n",
      "---  ------     --------------   -----  \n",
      " 0   Mkt-RF     119619 non-null  float64\n",
      " 1   SMB        119619 non-null  float64\n",
      " 2   HML        119619 non-null  float64\n",
      " 3   RMW        119619 non-null  float64\n",
      " 4   CMA        119619 non-null  float64\n",
      " 5   return_1m  119619 non-null  float64\n",
      "dtypes: float64(6)\n",
      "memory usage: 5.9+ MB\n"
     ]
    }
   ],
   "source": [
    "factors = ['Mkt-RF', 'SMB', 'HML', 'RMW', 'CMA']\n",
    "factor_data = web.DataReader('F-F_Research_Data_5_Factors_2x3', 'famafrench', start='2000')[0].drop('RF', axis=1)\n",
    "factor_data.index = factor_data.index.to_timestamp()\n",
    "factor_data = factor_data.resample('M').last().div(100)\n",
    "factor_data.index.name = 'date'\n",
    "factor_data = factor_data.join(data['return_1m']).sort_index()\n",
    "factor_data.info()"
   ]
  },
  {
   "cell_type": "code",
   "execution_count": 303,
   "metadata": {},
   "outputs": [
    {
     "data": {
      "text/html": [
       "<div>\n",
       "<style scoped>\n",
       "    .dataframe tbody tr th:only-of-type {\n",
       "        vertical-align: middle;\n",
       "    }\n",
       "\n",
       "    .dataframe tbody tr th {\n",
       "        vertical-align: top;\n",
       "    }\n",
       "\n",
       "    .dataframe thead th {\n",
       "        text-align: right;\n",
       "    }\n",
       "</style>\n",
       "<table border=\"1\" class=\"dataframe\">\n",
       "  <thead>\n",
       "    <tr style=\"text-align: right;\">\n",
       "      <th></th>\n",
       "      <th>Mkt-RF</th>\n",
       "      <th>SMB</th>\n",
       "      <th>HML</th>\n",
       "      <th>RMW</th>\n",
       "      <th>CMA</th>\n",
       "      <th>total</th>\n",
       "    </tr>\n",
       "  </thead>\n",
       "  <tbody>\n",
       "    <tr>\n",
       "      <th>count</th>\n",
       "      <td>109062.000000</td>\n",
       "      <td>109062.000000</td>\n",
       "      <td>109062.000000</td>\n",
       "      <td>109062.000000</td>\n",
       "      <td>109062.000000</td>\n",
       "      <td>119619.000000</td>\n",
       "    </tr>\n",
       "    <tr>\n",
       "      <th>mean</th>\n",
       "      <td>0.960494</td>\n",
       "      <td>0.133337</td>\n",
       "      <td>0.009525</td>\n",
       "      <td>-0.018210</td>\n",
       "      <td>0.048830</td>\n",
       "      <td>1.033897</td>\n",
       "    </tr>\n",
       "    <tr>\n",
       "      <th>std</th>\n",
       "      <td>0.631519</td>\n",
       "      <td>0.844242</td>\n",
       "      <td>1.067214</td>\n",
       "      <td>1.266721</td>\n",
       "      <td>1.456241</td>\n",
       "      <td>2.188716</td>\n",
       "    </tr>\n",
       "    <tr>\n",
       "      <th>min</th>\n",
       "      <td>-3.141591</td>\n",
       "      <td>-4.624049</td>\n",
       "      <td>-9.367835</td>\n",
       "      <td>-17.395163</td>\n",
       "      <td>-12.236988</td>\n",
       "      <td>-25.627865</td>\n",
       "    </tr>\n",
       "    <tr>\n",
       "      <th>25%</th>\n",
       "      <td>0.583051</td>\n",
       "      <td>-0.382312</td>\n",
       "      <td>-0.589972</td>\n",
       "      <td>-0.688630</td>\n",
       "      <td>-0.741650</td>\n",
       "      <td>0.000000</td>\n",
       "    </tr>\n",
       "    <tr>\n",
       "      <th>50%</th>\n",
       "      <td>0.940837</td>\n",
       "      <td>0.099071</td>\n",
       "      <td>-0.007063</td>\n",
       "      <td>0.050153</td>\n",
       "      <td>0.054052</td>\n",
       "      <td>0.938424</td>\n",
       "    </tr>\n",
       "    <tr>\n",
       "      <th>75%</th>\n",
       "      <td>1.312563</td>\n",
       "      <td>0.602964</td>\n",
       "      <td>0.598287</td>\n",
       "      <td>0.726317</td>\n",
       "      <td>0.866319</td>\n",
       "      <td>2.262619</td>\n",
       "    </tr>\n",
       "    <tr>\n",
       "      <th>max</th>\n",
       "      <td>7.220220</td>\n",
       "      <td>6.168560</td>\n",
       "      <td>7.852495</td>\n",
       "      <td>7.537993</td>\n",
       "      <td>9.495415</td>\n",
       "      <td>16.554844</td>\n",
       "    </tr>\n",
       "  </tbody>\n",
       "</table>\n",
       "</div>"
      ],
      "text/plain": [
       "              Mkt-RF            SMB            HML            RMW  \\\n",
       "count  109062.000000  109062.000000  109062.000000  109062.000000   \n",
       "mean        0.960494       0.133337       0.009525      -0.018210   \n",
       "std         0.631519       0.844242       1.067214       1.266721   \n",
       "min        -3.141591      -4.624049      -9.367835     -17.395163   \n",
       "25%         0.583051      -0.382312      -0.589972      -0.688630   \n",
       "50%         0.940837       0.099071      -0.007063       0.050153   \n",
       "75%         1.312563       0.602964       0.598287       0.726317   \n",
       "max         7.220220       6.168560       7.852495       7.537993   \n",
       "\n",
       "                 CMA          total  \n",
       "count  109062.000000  119619.000000  \n",
       "mean        0.048830       1.033897  \n",
       "std         1.456241       2.188716  \n",
       "min       -12.236988     -25.627865  \n",
       "25%        -0.741650       0.000000  \n",
       "50%         0.054052       0.938424  \n",
       "75%         0.866319       2.262619  \n",
       "max         9.495415      16.554844  "
      ]
     },
     "execution_count": 303,
     "metadata": {},
     "output_type": "execute_result"
    }
   ],
   "source": [
    "T = 24\n",
    "betas = (factor_data.groupby(level=0,\n",
    "                             group_keys=False)\n",
    "         .apply(lambda x: RollingOLS(endog=x.return_1m,\n",
    "                                     exog=sm.add_constant(x.drop('return_1m', axis=1)),\n",
    "                                     window=min(T, x.shape[0]-1))\n",
    "                .fit(params_only=True)\n",
    "                .params\n",
    "                .drop('const', axis=1)))\n",
    "\n",
    "betas.describe().join(betas.sum(1).describe().to_frame('total'))"
   ]
  },
  {
   "cell_type": "code",
   "execution_count": 304,
   "metadata": {},
   "outputs": [
    {
     "data": {
      "text/plain": [
       "<seaborn.matrix.ClusterGrid at 0x7ffa39f11cd0>"
      ]
     },
     "execution_count": 304,
     "metadata": {},
     "output_type": "execute_result"
    },
    {
     "data": {
      "image/png": "[encoded data removed]",
      "text/plain": [
       "<Figure size 1000x1000 with 4 Axes>"
      ]
     },
     "metadata": {},
     "output_type": "display_data"
    }
   ],
   "source": [
    "cmap = sns.diverging_palette(10, 220, as_cmap=True)\n",
    "sns.clustermap(betas.corr(), annot=True, cmap=cmap, center=0)"
   ]
  },
  {
   "cell_type": "code",
   "execution_count": 305,
   "metadata": {},
   "outputs": [
    {
     "name": "stdout",
     "output_type": "stream",
     "text": [
      "<class 'pandas.core.frame.DataFrame'>\n",
      "MultiIndex: 181871 entries, ('A', Timestamp('2000-11-30 00:00:00', freq='M')) to ('ZION', Timestamp('2023-02-28 00:00:00', freq='M'))\n",
      "Data columns (total 11 columns):\n",
      " #   Column      Non-Null Count   Dtype  \n",
      "---  ------      --------------   -----  \n",
      " 0   return_1m   181871 non-null  float64\n",
      " 1   return_2m   181871 non-null  float64\n",
      " 2   return_3m   181871 non-null  float64\n",
      " 3   return_6m   181871 non-null  float64\n",
      " 4   return_9m   181871 non-null  float64\n",
      " 5   return_12m  181871 non-null  float64\n",
      " 6   Mkt-RF      181871 non-null  float64\n",
      " 7   SMB         181871 non-null  float64\n",
      " 8   HML         181871 non-null  float64\n",
      " 9   RMW         181871 non-null  float64\n",
      " 10  CMA         181871 non-null  float64\n",
      "dtypes: float64(11)\n",
      "memory usage: 20.0+ MB\n"
     ]
    }
   ],
   "source": [
    "data = (data\n",
    "        .join(betas\n",
    "              .groupby(level=0)\n",
    "              .shift()))\n",
    "              \n",
    "# impute means for rolling factor betas\n",
    "data.loc[:, factors] = data.groupby(level=0)[factors].apply(lambda x: x.fillna(x.mean()))\n",
    "\n",
    "data.info()"
   ]
  },
  {
   "cell_type": "code",
   "execution_count": 306,
   "metadata": {},
   "outputs": [],
   "source": [
    "# add momentum factors \n",
    "for lag in [2,3,6,9,12]:\n",
    "    data[f'momentum_{lag}'] = data[f'return_{lag}m'].sub(data.return_1m)\n",
    "data[f'momentum_3_12'] = data[f'return_12m'].sub(data.return_3m)"
   ]
  },
  {
   "cell_type": "code",
   "execution_count": 307,
   "metadata": {},
   "outputs": [],
   "source": [
    "# add date indicators\n",
    "dates = data.index.get_level_values('date')\n",
    "data['year'] = dates.year\n",
    "data['month'] = dates.month"
   ]
  },
  {
   "cell_type": "code",
   "execution_count": 308,
   "metadata": {},
   "outputs": [
    {
     "name": "stdout",
     "output_type": "stream",
     "text": [
      "<class 'pandas.core.frame.DataFrame'>\n",
      "MultiIndex: 181871 entries, ('A', Timestamp('2000-11-30 00:00:00', freq='M')) to ('ZION', Timestamp('2023-02-28 00:00:00', freq='M'))\n",
      "Data columns (total 25 columns):\n",
      " #   Column         Non-Null Count   Dtype  \n",
      "---  ------         --------------   -----  \n",
      " 0   return_1m      181871 non-null  float64\n",
      " 1   return_2m      181871 non-null  float64\n",
      " 2   return_3m      181871 non-null  float64\n",
      " 3   return_6m      181871 non-null  float64\n",
      " 4   return_9m      181871 non-null  float64\n",
      " 5   return_12m     181871 non-null  float64\n",
      " 6   Mkt-RF         181871 non-null  float64\n",
      " 7   SMB            181871 non-null  float64\n",
      " 8   HML            181871 non-null  float64\n",
      " 9   RMW            181871 non-null  float64\n",
      " 10  CMA            181871 non-null  float64\n",
      " 11  momentum_2     181871 non-null  float64\n",
      " 12  momentum_3     181871 non-null  float64\n",
      " 13  momentum_6     181871 non-null  float64\n",
      " 14  momentum_9     181871 non-null  float64\n",
      " 15  momentum_12    181871 non-null  float64\n",
      " 16  momentum_3_12  181871 non-null  float64\n",
      " 17  year           181871 non-null  int64  \n",
      " 18  month          181871 non-null  int64  \n",
      " 19  return_1m_t-1  181412 non-null  float64\n",
      " 20  return_1m_t-2  180953 non-null  float64\n",
      " 21  return_1m_t-3  180494 non-null  float64\n",
      " 22  return_1m_t-4  180035 non-null  float64\n",
      " 23  return_1m_t-5  179576 non-null  float64\n",
      " 24  return_1m_t-6  179117 non-null  float64\n",
      "dtypes: float64(23), int64(2)\n",
      "memory usage: 39.5+ MB\n"
     ]
    }
   ],
   "source": [
    "# add lagged returns\n",
    "for t in range(1, 7):\n",
    "    data[f'return_1m_t-{t}'] = data.groupby(level=0).return_1m.shift(t)\n",
    "data.info()"
   ]
  },
  {
   "attachments": {},
   "cell_type": "markdown",
   "metadata": {},
   "source": [
    "## Create Target: holding period returns"
   ]
  },
  {
   "cell_type": "code",
   "execution_count": 309,
   "metadata": {},
   "outputs": [],
   "source": [
    "for t in [1,2,3,6,12]:\n",
    "    data[f'target_{t}m'] = data.groupby(level=0)[f'return_{t}m'].shift(-t)"
   ]
  },
  {
   "cell_type": "code",
   "execution_count": 310,
   "metadata": {},
   "outputs": [
    {
     "data": {
      "text/html": [
       "<div>\n",
       "<style scoped>\n",
       "    .dataframe tbody tr th:only-of-type {\n",
       "        vertical-align: middle;\n",
       "    }\n",
       "\n",
       "    .dataframe tbody tr th {\n",
       "        vertical-align: top;\n",
       "    }\n",
       "\n",
       "    .dataframe thead th {\n",
       "        text-align: right;\n",
       "    }\n",
       "</style>\n",
       "<table border=\"1\" class=\"dataframe\">\n",
       "  <thead>\n",
       "    <tr style=\"text-align: right;\">\n",
       "      <th></th>\n",
       "      <th></th>\n",
       "      <th>target_1m</th>\n",
       "      <th>target_2m</th>\n",
       "      <th>target_3m</th>\n",
       "      <th>return_1m</th>\n",
       "      <th>return_2m</th>\n",
       "      <th>return_3m</th>\n",
       "      <th>return_1m_t-1</th>\n",
       "      <th>return_1m_t-2</th>\n",
       "      <th>return_1m_t-3</th>\n",
       "    </tr>\n",
       "    <tr>\n",
       "      <th></th>\n",
       "      <th>date</th>\n",
       "      <th></th>\n",
       "      <th></th>\n",
       "      <th></th>\n",
       "      <th></th>\n",
       "      <th></th>\n",
       "      <th></th>\n",
       "      <th></th>\n",
       "      <th></th>\n",
       "      <th></th>\n",
       "    </tr>\n",
       "  </thead>\n",
       "  <tbody>\n",
       "    <tr>\n",
       "      <th rowspan=\"10\" valign=\"top\">A</th>\n",
       "      <th>2001-02-28</th>\n",
       "      <td>-0.146393</td>\n",
       "      <td>0.040965</td>\n",
       "      <td>-0.023318</td>\n",
       "      <td>-0.243399</td>\n",
       "      <td>-0.183702</td>\n",
       "      <td>-0.116421</td>\n",
       "      <td>-0.003653</td>\n",
       "      <td>0.049101</td>\n",
       "      <td>0.126858</td>\n",
       "    </tr>\n",
       "    <tr>\n",
       "      <th>2001-03-31</th>\n",
       "      <td>0.269446</td>\n",
       "      <td>0.044722</td>\n",
       "      <td>0.018843</td>\n",
       "      <td>-0.146393</td>\n",
       "      <td>-0.183702</td>\n",
       "      <td>-0.151866</td>\n",
       "      <td>-0.243399</td>\n",
       "      <td>-0.003653</td>\n",
       "      <td>0.049101</td>\n",
       "    </tr>\n",
       "    <tr>\n",
       "      <th>2001-04-30</th>\n",
       "      <td>-0.140220</td>\n",
       "      <td>-0.087247</td>\n",
       "      <td>-0.098191</td>\n",
       "      <td>0.269446</td>\n",
       "      <td>0.040965</td>\n",
       "      <td>-0.105747</td>\n",
       "      <td>-0.146393</td>\n",
       "      <td>-0.243399</td>\n",
       "      <td>-0.003653</td>\n",
       "    </tr>\n",
       "    <tr>\n",
       "      <th>2001-05-31</th>\n",
       "      <td>-0.031009</td>\n",
       "      <td>-0.076413</td>\n",
       "      <td>-0.075527</td>\n",
       "      <td>-0.140220</td>\n",
       "      <td>0.044722</td>\n",
       "      <td>-0.023318</td>\n",
       "      <td>0.269446</td>\n",
       "      <td>-0.146393</td>\n",
       "      <td>-0.243399</td>\n",
       "    </tr>\n",
       "    <tr>\n",
       "      <th>2001-06-30</th>\n",
       "      <td>-0.119689</td>\n",
       "      <td>-0.097013</td>\n",
       "      <td>-0.151866</td>\n",
       "      <td>-0.031009</td>\n",
       "      <td>-0.087247</td>\n",
       "      <td>0.018843</td>\n",
       "      <td>-0.140220</td>\n",
       "      <td>0.269446</td>\n",
       "      <td>-0.146393</td>\n",
       "    </tr>\n",
       "    <tr>\n",
       "      <th>2001-07-31</th>\n",
       "      <td>-0.073753</td>\n",
       "      <td>-0.173365</td>\n",
       "      <td>-0.080114</td>\n",
       "      <td>-0.119689</td>\n",
       "      <td>-0.076413</td>\n",
       "      <td>-0.098191</td>\n",
       "      <td>-0.031009</td>\n",
       "      <td>-0.140220</td>\n",
       "      <td>0.269446</td>\n",
       "    </tr>\n",
       "    <tr>\n",
       "      <th>2001-08-31</th>\n",
       "      <td>-0.243399</td>\n",
       "      <td>-0.083278</td>\n",
       "      <td>0.009594</td>\n",
       "      <td>-0.073753</td>\n",
       "      <td>-0.097013</td>\n",
       "      <td>-0.075527</td>\n",
       "      <td>-0.119689</td>\n",
       "      <td>-0.031009</td>\n",
       "      <td>-0.140220</td>\n",
       "    </tr>\n",
       "    <tr>\n",
       "      <th>2001-09-30</th>\n",
       "      <td>0.139135</td>\n",
       "      <td>0.181055</td>\n",
       "      <td>0.134010</td>\n",
       "      <td>-0.243399</td>\n",
       "      <td>-0.173365</td>\n",
       "      <td>-0.151866</td>\n",
       "      <td>-0.073753</td>\n",
       "      <td>-0.119689</td>\n",
       "      <td>-0.031009</td>\n",
       "    </tr>\n",
       "    <tr>\n",
       "      <th>2001-10-31</th>\n",
       "      <td>0.224517</td>\n",
       "      <td>0.131456</td>\n",
       "      <td>0.108695</td>\n",
       "      <td>0.139135</td>\n",
       "      <td>-0.083278</td>\n",
       "      <td>-0.080114</td>\n",
       "      <td>-0.243399</td>\n",
       "      <td>-0.073753</td>\n",
       "      <td>-0.119689</td>\n",
       "    </tr>\n",
       "    <tr>\n",
       "      <th>2001-11-30</th>\n",
       "      <td>0.045467</td>\n",
       "      <td>0.054959</td>\n",
       "      <td>0.045339</td>\n",
       "      <td>0.224517</td>\n",
       "      <td>0.181055</td>\n",
       "      <td>0.009594</td>\n",
       "      <td>0.139135</td>\n",
       "      <td>-0.243399</td>\n",
       "      <td>-0.073753</td>\n",
       "    </tr>\n",
       "  </tbody>\n",
       "</table>\n",
       "</div>"
      ],
      "text/plain": [
       "              target_1m  target_2m  target_3m  return_1m  return_2m  \\\n",
       "  date                                                                \n",
       "A 2001-02-28  -0.146393   0.040965  -0.023318  -0.243399  -0.183702   \n",
       "  2001-03-31   0.269446   0.044722   0.018843  -0.146393  -0.183702   \n",
       "  2001-04-30  -0.140220  -0.087247  -0.098191   0.269446   0.040965   \n",
       "  2001-05-31  -0.031009  -0.076413  -0.075527  -0.140220   0.044722   \n",
       "  2001-06-30  -0.119689  -0.097013  -0.151866  -0.031009  -0.087247   \n",
       "  2001-07-31  -0.073753  -0.173365  -0.080114  -0.119689  -0.076413   \n",
       "  2001-08-31  -0.243399  -0.083278   0.009594  -0.073753  -0.097013   \n",
       "  2001-09-30   0.139135   0.181055   0.134010  -0.243399  -0.173365   \n",
       "  2001-10-31   0.224517   0.131456   0.108695   0.139135  -0.083278   \n",
       "  2001-11-30   0.045467   0.054959   0.045339   0.224517   0.181055   \n",
       "\n",
       "              return_3m  return_1m_t-1  return_1m_t-2  return_1m_t-3  \n",
       "  date                                                                \n",
       "A 2001-02-28  -0.116421      -0.003653       0.049101       0.126858  \n",
       "  2001-03-31  -0.151866      -0.243399      -0.003653       0.049101  \n",
       "  2001-04-30  -0.105747      -0.146393      -0.243399      -0.003653  \n",
       "  2001-05-31  -0.023318       0.269446      -0.146393      -0.243399  \n",
       "  2001-06-30   0.018843      -0.140220       0.269446      -0.146393  \n",
       "  2001-07-31  -0.098191      -0.031009      -0.140220       0.269446  \n",
       "  2001-08-31  -0.075527      -0.119689      -0.031009      -0.140220  \n",
       "  2001-09-30  -0.151866      -0.073753      -0.119689      -0.031009  \n",
       "  2001-10-31  -0.080114      -0.243399      -0.073753      -0.119689  \n",
       "  2001-11-30   0.009594       0.139135      -0.243399      -0.073753  "
      ]
     },
     "execution_count": 310,
     "metadata": {},
     "output_type": "execute_result"
    }
   ],
   "source": [
    "cols = ['target_1m',\n",
    "        'target_2m',\n",
    "        'target_3m', \n",
    "        'return_1m',\n",
    "        'return_2m',\n",
    "        'return_3m',\n",
    "        'return_1m_t-1',\n",
    "        'return_1m_t-2',\n",
    "        'return_1m_t-3']\n",
    "\n",
    "data[cols].dropna().sort_index().head(10)"
   ]
  },
  {
   "cell_type": "code",
   "execution_count": 311,
   "metadata": {},
   "outputs": [
    {
     "name": "stdout",
     "output_type": "stream",
     "text": [
      "<class 'pandas.core.frame.DataFrame'>\n",
      "MultiIndex: 181871 entries, ('A', Timestamp('2000-11-30 00:00:00', freq='M')) to ('ZION', Timestamp('2023-02-28 00:00:00', freq='M'))\n",
      "Data columns (total 30 columns):\n",
      " #   Column         Non-Null Count   Dtype  \n",
      "---  ------         --------------   -----  \n",
      " 0   return_1m      181871 non-null  float64\n",
      " 1   return_2m      181871 non-null  float64\n",
      " 2   return_3m      181871 non-null  float64\n",
      " 3   return_6m      181871 non-null  float64\n",
      " 4   return_9m      181871 non-null  float64\n",
      " 5   return_12m     181871 non-null  float64\n",
      " 6   Mkt-RF         181871 non-null  float64\n",
      " 7   SMB            181871 non-null  float64\n",
      " 8   HML            181871 non-null  float64\n",
      " 9   RMW            181871 non-null  float64\n",
      " 10  CMA            181871 non-null  float64\n",
      " 11  momentum_2     181871 non-null  float64\n",
      " 12  momentum_3     181871 non-null  float64\n",
      " 13  momentum_6     181871 non-null  float64\n",
      " 14  momentum_9     181871 non-null  float64\n",
      " 15  momentum_12    181871 non-null  float64\n",
      " 16  momentum_3_12  181871 non-null  float64\n",
      " 17  year           181871 non-null  int64  \n",
      " 18  month          181871 non-null  int64  \n",
      " 19  return_1m_t-1  181412 non-null  float64\n",
      " 20  return_1m_t-2  180953 non-null  float64\n",
      " 21  return_1m_t-3  180494 non-null  float64\n",
      " 22  return_1m_t-4  180035 non-null  float64\n",
      " 23  return_1m_t-5  179576 non-null  float64\n",
      " 24  return_1m_t-6  179117 non-null  float64\n",
      " 25  target_1m      181412 non-null  float64\n",
      " 26  target_2m      180953 non-null  float64\n",
      " 27  target_3m      180494 non-null  float64\n",
      " 28  target_6m      179117 non-null  float64\n",
      " 29  target_12m     176363 non-null  float64\n",
      "dtypes: float64(28), int64(2)\n",
      "memory usage: 46.4+ MB\n"
     ]
    }
   ],
   "source": [
    "data.info()"
   ]
  },
  {
   "cell_type": "code",
   "execution_count": 312,
   "metadata": {},
   "outputs": [],
   "source": [
    "a = []\n",
    "for i in range(len(stocks)):\n",
    "    year = stocks.IPODate[i][0:4]\n",
    "    a.append(year)\n",
    "\n",
    "a = pd.Series(a, name = 'IPOYear', index = stocks.index)\n",
    "stocks = stocks.join(a)\n",
    "stocks = stocks.drop('IPODate', axis = 1)"
   ]
  },
  {
   "cell_type": "code",
   "execution_count": 313,
   "metadata": {},
   "outputs": [
    {
     "data": {
      "text/html": [
       "<div>\n",
       "<style scoped>\n",
       "    .dataframe tbody tr th:only-of-type {\n",
       "        vertical-align: middle;\n",
       "    }\n",
       "\n",
       "    .dataframe tbody tr th {\n",
       "        vertical-align: top;\n",
       "    }\n",
       "\n",
       "    .dataframe thead th {\n",
       "        text-align: right;\n",
       "    }\n",
       "</style>\n",
       "<table border=\"1\" class=\"dataframe\">\n",
       "  <thead>\n",
       "    <tr style=\"text-align: right;\">\n",
       "      <th></th>\n",
       "      <th>Sector</th>\n",
       "      <th>MarketCapitalization</th>\n",
       "      <th>IPOYear</th>\n",
       "    </tr>\n",
       "  </thead>\n",
       "  <tbody>\n",
       "    <tr>\n",
       "      <th>AAPL</th>\n",
       "      <td>Technology</td>\n",
       "      <td>2349235699712</td>\n",
       "      <td>1980</td>\n",
       "    </tr>\n",
       "    <tr>\n",
       "      <th>MSFT</th>\n",
       "      <td>Technology</td>\n",
       "      <td>1880825004032</td>\n",
       "      <td>1986</td>\n",
       "    </tr>\n",
       "    <tr>\n",
       "      <th>AMZN</th>\n",
       "      <td>Consumer Cyclical</td>\n",
       "      <td>969189687296</td>\n",
       "      <td>1997</td>\n",
       "    </tr>\n",
       "    <tr>\n",
       "      <th>GOOGL</th>\n",
       "      <td>Communication Services</td>\n",
       "      <td>1209774637056</td>\n",
       "      <td>2004</td>\n",
       "    </tr>\n",
       "    <tr>\n",
       "      <th>TSLA</th>\n",
       "      <td>Consumer Cyclical</td>\n",
       "      <td>624498442240</td>\n",
       "      <td>2010</td>\n",
       "    </tr>\n",
       "  </tbody>\n",
       "</table>\n",
       "</div>"
      ],
      "text/plain": [
       "                       Sector MarketCapitalization IPOYear\n",
       "AAPL               Technology        2349235699712    1980\n",
       "MSFT               Technology        1880825004032    1986\n",
       "AMZN        Consumer Cyclical         969189687296    1997\n",
       "GOOGL  Communication Services        1209774637056    2004\n",
       "TSLA        Consumer Cyclical         624498442240    2010"
      ]
     },
     "execution_count": 313,
     "metadata": {},
     "output_type": "execute_result"
    }
   ],
   "source": [
    "stocks.head()"
   ]
  },
  {
   "cell_type": "code",
   "execution_count": 314,
   "metadata": {},
   "outputs": [],
   "source": [
    "## create age proxy using quintiles\n",
    "data = (data\n",
    "        .join(pd.qcut(stocks['IPOYear'].astype('int64'), q=5, labels=list(range(1, 6)))\n",
    "              .astype(float)\n",
    "              .fillna(0)\n",
    "              .astype(int)\n",
    "              .to_frame('age'), on = data.index.get_level_values(0)))\n",
    "data.age = data.age.fillna(-1)"
   ]
  },
  {
   "cell_type": "code",
   "execution_count": 315,
   "metadata": {},
   "outputs": [
    {
     "name": "stdout",
     "output_type": "stream",
     "text": [
      "<class 'pandas.core.frame.DataFrame'>\n",
      "Index: 503 entries, AAPL to NWS\n",
      "Data columns (total 3 columns):\n",
      " #   Column                Non-Null Count  Dtype \n",
      "---  ------                --------------  ----- \n",
      " 0   Sector                503 non-null    object\n",
      " 1   MarketCapitalization  503 non-null    object\n",
      " 2   IPOYear               503 non-null    object\n",
      "dtypes: object(3)\n",
      "memory usage: 31.9+ KB\n"
     ]
    }
   ],
   "source": [
    "stocks.info()"
   ]
  },
  {
   "cell_type": "code",
   "execution_count": 316,
   "metadata": {},
   "outputs": [
    {
     "name": "stdout",
     "output_type": "stream",
     "text": [
      "<class 'pandas.core.frame.DataFrame'>\n",
      "DatetimeIndex: 722 entries, 2023-02-28 to 1963-01-31\n",
      "Columns: 459 entries, A to ZION\n",
      "dtypes: float64(459)\n",
      "memory usage: 2.5 MB\n"
     ]
    }
   ],
   "source": [
    "## create dynamic size proxy\n",
    "size_factor = (monthly_prices\n",
    "               .loc[data.index.get_level_values('date').unique(),\n",
    "                    data.index.get_level_values(0).unique()]\n",
    "               .sort_index(ascending=False)\n",
    "               .pct_change()\n",
    "               .fillna(0)\n",
    "               .add(1)\n",
    "               .cumprod())\n",
    "size_factor.info()"
   ]
  },
  {
   "cell_type": "code",
   "execution_count": 317,
   "metadata": {},
   "outputs": [],
   "source": [
    "msize = (size_factor\n",
    "         .mul(stocks\n",
    "              .loc[size_factor.columns, 'MarketCapitalization'])).dropna(axis=1, how='all')"
   ]
  },
  {
   "cell_type": "code",
   "execution_count": 318,
   "metadata": {},
   "outputs": [],
   "source": [
    "data['msize'] = (msize\n",
    "                 .apply(lambda x: pd.qcut(x, q=10, labels=list(range(1, 11)))\n",
    "                        .astype(int), axis=1)\n",
    "                 .stack()\n",
    "                 .swaplevel())\n",
    "data.msize = data.msize.fillna(-1)"
   ]
  },
  {
   "cell_type": "code",
   "execution_count": 319,
   "metadata": {},
   "outputs": [
    {
     "data": {
      "text/plain": [
       "MultiIndex([(   'A', '2000-11-30'),\n",
       "            (   'A', '2000-12-31'),\n",
       "            (   'A', '2001-01-31'),\n",
       "            (   'A', '2001-02-28'),\n",
       "            (   'A', '2001-03-31'),\n",
       "            (   'A', '2001-04-30'),\n",
       "            (   'A', '2001-05-31'),\n",
       "            (   'A', '2001-06-30'),\n",
       "            (   'A', '2001-07-31'),\n",
       "            (   'A', '2001-08-31'),\n",
       "            ...\n",
       "            ('ZION', '2022-05-31'),\n",
       "            ('ZION', '2022-06-30'),\n",
       "            ('ZION', '2022-07-31'),\n",
       "            ('ZION', '2022-08-31'),\n",
       "            ('ZION', '2022-09-30'),\n",
       "            ('ZION', '2022-10-31'),\n",
       "            ('ZION', '2022-11-30'),\n",
       "            ('ZION', '2022-12-31'),\n",
       "            ('ZION', '2023-01-31'),\n",
       "            ('ZION', '2023-02-28')],\n",
       "           names=[None, 'date'], length=181871)"
      ]
     },
     "execution_count": 319,
     "metadata": {},
     "output_type": "execute_result"
    }
   ],
   "source": [
    "data.index"
   ]
  },
  {
   "attachments": {},
   "cell_type": "markdown",
   "metadata": {},
   "source": [
    "## Combine data"
   ]
  },
  {
   "cell_type": "code",
   "execution_count": 321,
   "metadata": {},
   "outputs": [
    {
     "name": "stdout",
     "output_type": "stream",
     "text": [
      "<class 'pandas.core.frame.DataFrame'>\n",
      "MultiIndex: 181871 entries, ('A', Timestamp('2000-11-30 00:00:00', freq='M')) to ('ZION', Timestamp('2023-02-28 00:00:00', freq='M'))\n",
      "Data columns (total 33 columns):\n",
      " #   Column         Non-Null Count   Dtype  \n",
      "---  ------         --------------   -----  \n",
      " 0   return_1m      181871 non-null  float64\n",
      " 1   return_2m      181871 non-null  float64\n",
      " 2   return_3m      181871 non-null  float64\n",
      " 3   return_6m      181871 non-null  float64\n",
      " 4   return_9m      181871 non-null  float64\n",
      " 5   return_12m     181871 non-null  float64\n",
      " 6   Mkt-RF         181871 non-null  float64\n",
      " 7   SMB            181871 non-null  float64\n",
      " 8   HML            181871 non-null  float64\n",
      " 9   RMW            181871 non-null  float64\n",
      " 10  CMA            181871 non-null  float64\n",
      " 11  momentum_2     181871 non-null  float64\n",
      " 12  momentum_3     181871 non-null  float64\n",
      " 13  momentum_6     181871 non-null  float64\n",
      " 14  momentum_9     181871 non-null  float64\n",
      " 15  momentum_12    181871 non-null  float64\n",
      " 16  momentum_3_12  181871 non-null  float64\n",
      " 17  year           181871 non-null  int64  \n",
      " 18  month          181871 non-null  int64  \n",
      " 19  return_1m_t-1  181412 non-null  float64\n",
      " 20  return_1m_t-2  180953 non-null  float64\n",
      " 21  return_1m_t-3  180494 non-null  float64\n",
      " 22  return_1m_t-4  180035 non-null  float64\n",
      " 23  return_1m_t-5  179576 non-null  float64\n",
      " 24  return_1m_t-6  179117 non-null  float64\n",
      " 25  target_1m      181412 non-null  float64\n",
      " 26  target_2m      180953 non-null  float64\n",
      " 27  target_3m      180494 non-null  float64\n",
      " 28  target_6m      179117 non-null  float64\n",
      " 29  target_12m     176363 non-null  float64\n",
      " 30  age            181871 non-null  int64  \n",
      " 31  msize          181871 non-null  int64  \n",
      " 32  Sector         181871 non-null  object \n",
      "dtypes: float64(28), int64(4), object(1)\n",
      "memory usage: 50.6+ MB\n"
     ]
    }
   ],
   "source": [
    "data = data.join(stocks[['Sector']], on = data.index.get_level_values(0))\n",
    "data.Sector = data.Sector.fillna('Unknown')\n",
    "data.info()"
   ]
  },
  {
   "attachments": {},
   "cell_type": "markdown",
   "metadata": {},
   "source": [
    "## Store Data"
   ]
  },
  {
   "cell_type": "code",
   "execution_count": 322,
   "metadata": {},
   "outputs": [
    {
     "name": "stdout",
     "output_type": "stream",
     "text": [
      "<class 'pandas.io.pytables.HDFStore'>\n",
      "File path: ../00_data/assets_v1.h5\n",
      "/engineered_features                 frame        (shape->[181871,33])\n",
      "/fred/assets                         frame        (shape->[6037,4])   \n",
      "/sp500/stocks                        frame        (shape->[503,8])    \n",
      "/sp500/stooq                         frame        (shape->[17700,5])  \n",
      "/stocks/base_fundementals            series       (shape->[1])        \n",
      "/stocks/prices/daily                 frame        (shape->[4003688,6])\n"
     ]
    }
   ],
   "source": [
    "with pd.HDFStore(DATA_STORE) as store:\n",
    "    store.put('engineered_features', data.sort_index())\n",
    "    print(store.info())"
   ]
  },
  {
   "attachments": {},
   "cell_type": "markdown",
   "metadata": {},
   "source": [
    "## Create Dummy Variables"
   ]
  },
  {
   "cell_type": "code",
   "execution_count": 324,
   "metadata": {},
   "outputs": [
    {
     "name": "stdout",
     "output_type": "stream",
     "text": [
      "<class 'pandas.core.frame.DataFrame'>\n",
      "MultiIndex: 181871 entries, ('A', Timestamp('2000-11-30 00:00:00', freq='M')) to ('ZION', Timestamp('2023-02-28 00:00:00', freq='M'))\n",
      "Columns: 127 entries, return_1m to Utilities\n",
      "dtypes: float64(28), uint8(99)\n",
      "memory usage: 60.8+ MB\n"
     ]
    }
   ],
   "source": [
    "dummy_data = pd.get_dummies(data,\n",
    "                            columns=['year','month', 'msize', 'age',  'Sector'],\n",
    "                            prefix=['year','month', 'msize', 'age', ''],\n",
    "                            prefix_sep=['_', '_', '_', '_', ''])\n",
    "dummy_data = dummy_data.rename(columns={c:c.replace('.0', '') for c in dummy_data.columns})\n",
    "dummy_data.info()"
   ]
  }
 ],
 "metadata": {
  "kernelspec": {
   "display_name": "base",
   "language": "python",
   "name": "python3"
  },
  "language_info": {
   "codemirror_mode": {
    "name": "ipython",
    "version": 3
   },
   "file_extension": ".py",
   "mimetype": "text/x-python",
   "name": "python",
   "nbconvert_exporter": "python",
   "pygments_lexer": "ipython3",
   "version": "3.8.16"
  },
  "orig_nbformat": 4,
  "vscode": {
   "interpreter": {
    "hash": "434ef85c3fb5a296e505a484f164c3e4672a7a65819d5b3b14e63d027f7747a3"
   }
  }
 },
 "nbformat": 4,
 "nbformat_minor": 2
}
