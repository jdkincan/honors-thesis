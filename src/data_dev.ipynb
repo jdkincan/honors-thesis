{
 "cells": [
  {
   "attachments": {},
   "cell_type": "markdown",
   "metadata": {},
   "source": [
    "## Data Importation, Cleaning, and Transformation\n",
    "\n",
    "Data Source: https://eodhistoricaldata.com/"
   ]
  },
  {
   "cell_type": "code",
   "execution_count": 1,
   "metadata": {},
   "outputs": [],
   "source": [
    "# import dependencies\n",
    "import numpy as np\n",
    "import scipy as sp\n",
    "import dask.dataframe as dd\n",
    "import pandas as pd\n",
    "import matplotlib.pyplot as plt\n",
    "import seaborn as sns\n",
    "import joblib as jl\n",
    "import datetime as dt\n",
    "import requests\n",
    "\n",
    "from icecream import ic\n",
    "\n",
    "import os\n",
    "from dotenv import load_dotenv\n",
    "\n",
    "from ta import add_all_ta_features\n",
    "from ta.trend import MACD\n",
    "from ta.volatility import BollingerBands\n",
    "from ta.volume import VolumeWeightedAveragePrice\n",
    "from ta.momentum import StochRSIIndicator"
   ]
  },
  {
   "cell_type": "code",
   "execution_count": 2,
   "metadata": {},
   "outputs": [],
   "source": [
    "load_dotenv()\n",
    "TOKEN = os.getenv('TOKEN')"
   ]
  },
  {
   "cell_type": "code",
   "execution_count": 3,
   "metadata": {},
   "outputs": [],
   "source": [
    "def get_etf_tickers(): \n",
    "    \n",
    "    # pulls all tickers of ETFs on NYSE or NASDAQ\n",
    "\n",
    "    r = requests.get('https://eodhistoricaldata.com/api/exchange-symbol-list/US', \n",
    "        params={'api_token': '63dc0e2f4efc43.34327983', 'fmt': 'json'}\n",
    "        )\n",
    "    data = r.json()\n",
    "    r.close()\n",
    "\n",
    "    df = pd.DataFrame(data)\n",
    "    df = df[\n",
    "        (df.Type == 'ETF') &\n",
    "        ((df.Exchange == 'NYSE ARCA') |\n",
    "        (df.Exchange == 'NASDAQ'))\n",
    "        ]\n",
    "\n",
    "    df.index = df.Code\n",
    "    df.drop('Code', axis = 1, inplace=True)\n",
    "    ticker_list = list(df.index)\n",
    "    return ticker_list"
   ]
  },
  {
   "cell_type": "code",
   "execution_count": 4,
   "metadata": {},
   "outputs": [],
   "source": [
    "# get etf tickers\n",
    "# tickers = get_etf_tickers()"
   ]
  },
  {
   "cell_type": "code",
   "execution_count": 5,
   "metadata": {},
   "outputs": [],
   "source": [
    "# save ticker list to csv\n",
    "#df = pd.DataFrame(tickers)\n",
    "#df.to_csv('data/tickers.csv')"
   ]
  },
  {
   "cell_type": "code",
   "execution_count": 6,
   "metadata": {},
   "outputs": [],
   "source": [
    "def get_historical_price(tickers, data_type):\n",
    "\n",
    "    # pulls historical daily or intraday OLHC prices and volume\n",
    "\n",
    "    d = {}\n",
    "\n",
    "    for i in range(len(tickers)): \n",
    "\n",
    "        r = requests.get('https://eodhistoricaldata.com/api' + '/' + data_type + '/' + tickers[i] + '.US', \n",
    "            params={'api_token': '63dc0e2f4efc43.34327983', 'fmt': 'json'}\n",
    "            )\n",
    "        data = r.json()\n",
    "        r.close()\n",
    "\n",
    "        # ADD PROGRESS BAR\n",
    "        \n",
    "        for symbol in tickers:\n",
    "            d[symbol] = pd.DataFrame.from_records(data)\n",
    "\n",
    "            indicator_macd = MACD(close = d[symbol]['close'], window_slow=26, window_fast=12, window_sign=9, fillna=True)\n",
    "            d[symbol]['macd'] = indicator_macd.macd()\n",
    "            d[symbol]['macd_diff'] = indicator_macd.macd_diff()\n",
    "            d[symbol]['macd_signal'] = indicator_macd.macd_signal()\n",
    "\n",
    "            indicator_bb = BollingerBands(close = d[symbol]['close'], window=20, window_dev=2, fillna=True)\n",
    "            d[symbol]['bb_mavg'] = indicator_bb.bollinger_mavg()\n",
    "            d[symbol]['bb_hband'] = indicator_bb.bollinger_hband()\n",
    "            d[symbol]['bb_lband'] = indicator_bb.bollinger_lband()\n",
    "            d[symbol]['bb_hband_ind'] = indicator_bb.bollinger_hband_indicator()\n",
    "            d[symbol]['bb_lband_ind'] = indicator_bb.bollinger_lband_indicator()\n",
    "\n",
    "            indicator_vwap = VolumeWeightedAveragePrice(\n",
    "                high = d[symbol]['high'],\n",
    "                low = d[symbol]['low'],\n",
    "                close = d[symbol]['close'],\n",
    "                volume = d[symbol]['volume'],\n",
    "                window=14, fillna=True)\n",
    "            d[symbol]['vwap'] = indicator_vwap.volume_weighted_average_price()\n",
    "\n",
    "            indicator_stochrsi = StochRSIIndicator(close = d[symbol]['close'], window=14, smooth1=3, smooth2=3, fillna=True)\n",
    "            d[symbol]['stoch_rsi'] = indicator_stochrsi.stochrsi()\n",
    "            d[symbol]['stochrsi_d'] = indicator_stochrsi.stochrsi_d()\n",
    "            d[symbol]['stochrsi_k'] = indicator_stochrsi.stochrsi_k()\n",
    "\n",
    "    return d"
   ]
  },
  {
   "cell_type": "code",
   "execution_count": 7,
   "metadata": {},
   "outputs": [],
   "source": [
    "# placeholder tickers\n",
    "tickers = ['SPXL', 'SPXS']\n",
    "\n",
    "# get intraday prices | dictionary of dataframes\n",
    "intraday_data = get_historical_price(tickers, 'intraday')\n",
    "\n",
    "# get daily prices | dictionary of dataframes\n",
    "daily_data = get_historical_price(tickers, 'eod')"
   ]
  },
  {
   "cell_type": "code",
   "execution_count": 8,
   "metadata": {},
   "outputs": [],
   "source": [
    "# concat intraday dataframes together and convert to dask df\n",
    "intraday_df = pd.concat(intraday_data.values(), axis=1, keys=intraday_data.keys())\n",
    "intraday_dask_df = dd.from_pandas(intraday_df, npartitions=6)\n",
    "\n",
    "# concat daily dataframes together and convert to dask df\n",
    "daily_df = pd.concat(daily_data.values(), axis=1, keys=daily_data.keys())\n",
    "daily_dask_df = dd.from_pandas(daily_df, npartitions=6)\n",
    "\n",
    "#daily_df.to_csv('data/test_daily_df.csv')"
   ]
  },
  {
   "cell_type": "code",
   "execution_count": 9,
   "metadata": {},
   "outputs": [
    {
     "data": {
      "text/html": [
       "<div>\n",
       "<style scoped>\n",
       "    .dataframe tbody tr th:only-of-type {\n",
       "        vertical-align: middle;\n",
       "    }\n",
       "\n",
       "    .dataframe tbody tr th {\n",
       "        vertical-align: top;\n",
       "    }\n",
       "\n",
       "    .dataframe thead tr th {\n",
       "        text-align: left;\n",
       "    }\n",
       "</style>\n",
       "<table border=\"1\" class=\"dataframe\">\n",
       "  <thead>\n",
       "    <tr>\n",
       "      <th></th>\n",
       "      <th colspan=\"10\" halign=\"left\">SPXL</th>\n",
       "      <th>...</th>\n",
       "      <th colspan=\"10\" halign=\"left\">SPXS</th>\n",
       "    </tr>\n",
       "    <tr>\n",
       "      <th></th>\n",
       "      <th>date</th>\n",
       "      <th>open</th>\n",
       "      <th>high</th>\n",
       "      <th>low</th>\n",
       "      <th>close</th>\n",
       "      <th>adjusted_close</th>\n",
       "      <th>volume</th>\n",
       "      <th>macd</th>\n",
       "      <th>macd_diff</th>\n",
       "      <th>macd_signal</th>\n",
       "      <th>...</th>\n",
       "      <th>macd_signal</th>\n",
       "      <th>bb_mavg</th>\n",
       "      <th>bb_hband</th>\n",
       "      <th>bb_lband</th>\n",
       "      <th>bb_hband_ind</th>\n",
       "      <th>bb_lband_ind</th>\n",
       "      <th>vwap</th>\n",
       "      <th>stoch_rsi</th>\n",
       "      <th>stochrsi_d</th>\n",
       "      <th>stochrsi_k</th>\n",
       "    </tr>\n",
       "  </thead>\n",
       "  <tbody>\n",
       "    <tr>\n",
       "      <th>0</th>\n",
       "      <td>2008-11-05</td>\n",
       "      <td>62.5621</td>\n",
       "      <td>69.8196</td>\n",
       "      <td>61.38</td>\n",
       "      <td>69.5100</td>\n",
       "      <td>85142.5238</td>\n",
       "      <td>11</td>\n",
       "      <td>0.000000</td>\n",
       "      <td>0.000000</td>\n",
       "      <td>0.000000</td>\n",
       "      <td>...</td>\n",
       "      <td>0.000000</td>\n",
       "      <td>69.510000</td>\n",
       "      <td>69.510000</td>\n",
       "      <td>69.510000</td>\n",
       "      <td>0.0</td>\n",
       "      <td>0.0</td>\n",
       "      <td>66.903200</td>\n",
       "      <td>0.0</td>\n",
       "      <td>0.0</td>\n",
       "      <td>0.0</td>\n",
       "    </tr>\n",
       "    <tr>\n",
       "      <th>1</th>\n",
       "      <td>2008-11-06</td>\n",
       "      <td>75.0000</td>\n",
       "      <td>80.5000</td>\n",
       "      <td>69.85</td>\n",
       "      <td>79.9400</td>\n",
       "      <td>97918.1755</td>\n",
       "      <td>99</td>\n",
       "      <td>0.832023</td>\n",
       "      <td>0.665618</td>\n",
       "      <td>0.166405</td>\n",
       "      <td>...</td>\n",
       "      <td>0.166405</td>\n",
       "      <td>74.725000</td>\n",
       "      <td>85.155000</td>\n",
       "      <td>64.295000</td>\n",
       "      <td>0.0</td>\n",
       "      <td>0.0</td>\n",
       "      <td>75.777320</td>\n",
       "      <td>0.0</td>\n",
       "      <td>0.0</td>\n",
       "      <td>0.0</td>\n",
       "    </tr>\n",
       "    <tr>\n",
       "      <th>2</th>\n",
       "      <td>2008-11-07</td>\n",
       "      <td>78.3900</td>\n",
       "      <td>79.8300</td>\n",
       "      <td>73.25</td>\n",
       "      <td>73.9499</td>\n",
       "      <td>90580.9267</td>\n",
       "      <td>267</td>\n",
       "      <td>0.996568</td>\n",
       "      <td>0.664131</td>\n",
       "      <td>0.332437</td>\n",
       "      <td>...</td>\n",
       "      <td>0.332437</td>\n",
       "      <td>74.466633</td>\n",
       "      <td>83.013989</td>\n",
       "      <td>65.919277</td>\n",
       "      <td>0.0</td>\n",
       "      <td>0.0</td>\n",
       "      <td>75.706011</td>\n",
       "      <td>0.0</td>\n",
       "      <td>0.0</td>\n",
       "      <td>0.0</td>\n",
       "    </tr>\n",
       "    <tr>\n",
       "      <th>3</th>\n",
       "      <td>2008-11-10</td>\n",
       "      <td>69.6400</td>\n",
       "      <td>79.3200</td>\n",
       "      <td>67.89</td>\n",
       "      <td>75.5800</td>\n",
       "      <td>92577.6417</td>\n",
       "      <td>194</td>\n",
       "      <td>1.244165</td>\n",
       "      <td>0.729382</td>\n",
       "      <td>0.514783</td>\n",
       "      <td>...</td>\n",
       "      <td>0.514783</td>\n",
       "      <td>74.744975</td>\n",
       "      <td>82.209736</td>\n",
       "      <td>67.280214</td>\n",
       "      <td>0.0</td>\n",
       "      <td>0.0</td>\n",
       "      <td>75.215855</td>\n",
       "      <td>0.0</td>\n",
       "      <td>0.0</td>\n",
       "      <td>0.0</td>\n",
       "    </tr>\n",
       "    <tr>\n",
       "      <th>4</th>\n",
       "      <td>2008-11-11</td>\n",
       "      <td>80.2700</td>\n",
       "      <td>85.4000</td>\n",
       "      <td>76.24</td>\n",
       "      <td>80.2500</td>\n",
       "      <td>98297.8932</td>\n",
       "      <td>281</td>\n",
       "      <td>1.796508</td>\n",
       "      <td>1.025380</td>\n",
       "      <td>0.771128</td>\n",
       "      <td>...</td>\n",
       "      <td>0.771128</td>\n",
       "      <td>75.845980</td>\n",
       "      <td>83.844325</td>\n",
       "      <td>67.847635</td>\n",
       "      <td>0.0</td>\n",
       "      <td>0.0</td>\n",
       "      <td>77.001506</td>\n",
       "      <td>0.0</td>\n",
       "      <td>0.0</td>\n",
       "      <td>0.0</td>\n",
       "    </tr>\n",
       "  </tbody>\n",
       "</table>\n",
       "<p>5 rows × 38 columns</p>\n",
       "</div>"
      ],
      "text/plain": [
       "         SPXL                                                          \\\n",
       "         date     open     high    low    close adjusted_close volume   \n",
       "0  2008-11-05  62.5621  69.8196  61.38  69.5100     85142.5238     11   \n",
       "1  2008-11-06  75.0000  80.5000  69.85  79.9400     97918.1755     99   \n",
       "2  2008-11-07  78.3900  79.8300  73.25  73.9499     90580.9267    267   \n",
       "3  2008-11-10  69.6400  79.3200  67.89  75.5800     92577.6417    194   \n",
       "4  2008-11-11  80.2700  85.4000  76.24  80.2500     98297.8932    281   \n",
       "\n",
       "                                   ...        SPXS                        \\\n",
       "       macd macd_diff macd_signal  ... macd_signal    bb_mavg   bb_hband   \n",
       "0  0.000000  0.000000    0.000000  ...    0.000000  69.510000  69.510000   \n",
       "1  0.832023  0.665618    0.166405  ...    0.166405  74.725000  85.155000   \n",
       "2  0.996568  0.664131    0.332437  ...    0.332437  74.466633  83.013989   \n",
       "3  1.244165  0.729382    0.514783  ...    0.514783  74.744975  82.209736   \n",
       "4  1.796508  1.025380    0.771128  ...    0.771128  75.845980  83.844325   \n",
       "\n",
       "                                                                        \\\n",
       "    bb_lband bb_hband_ind bb_lband_ind       vwap stoch_rsi stochrsi_d   \n",
       "0  69.510000          0.0          0.0  66.903200       0.0        0.0   \n",
       "1  64.295000          0.0          0.0  75.777320       0.0        0.0   \n",
       "2  65.919277          0.0          0.0  75.706011       0.0        0.0   \n",
       "3  67.280214          0.0          0.0  75.215855       0.0        0.0   \n",
       "4  67.847635          0.0          0.0  77.001506       0.0        0.0   \n",
       "\n",
       "              \n",
       "  stochrsi_k  \n",
       "0        0.0  \n",
       "1        0.0  \n",
       "2        0.0  \n",
       "3        0.0  \n",
       "4        0.0  \n",
       "\n",
       "[5 rows x 38 columns]"
      ]
     },
     "execution_count": 9,
     "metadata": {},
     "output_type": "execute_result"
    }
   ],
   "source": [
    "daily_df.head()"
   ]
  },
  {
   "attachments": {},
   "cell_type": "markdown",
   "metadata": {},
   "source": [
    "### Current Dev\n",
    "- next job, implement get_fundementals and organize data output\n",
    "- then develop flow for analysis on whiteboard, use paper as resource"
   ]
  },
  {
   "attachments": {},
   "cell_type": "markdown",
   "metadata": {},
   "source": [
    "### ETF Fundementals"
   ]
  },
  {
   "cell_type": "code",
   "execution_count": 227,
   "metadata": {},
   "outputs": [],
   "source": [
    "def test(tickers): \n",
    "\n",
    "    d = {}\n",
    "\n",
    "    for i in range(len(tickers)): \n",
    "\n",
    "        r = requests.get('https://eodhistoricaldata.com/api/fundamentals/' + tickers[i] + '.US', \n",
    "            params={'api_token': '63dc0e2f4efc43.34327983', 'fmt': 'json'}\n",
    "            )\n",
    "        data = r.json()\n",
    "        \n",
    "        r.close()\n",
    "        return data"
   ]
  },
  {
   "cell_type": "code",
   "execution_count": 228,
   "metadata": {},
   "outputs": [],
   "source": [
    "tickers = ['SPY']#, 'QQQ']\n",
    "fundemental_data = test(tickers)"
   ]
  },
  {
   "cell_type": "code",
   "execution_count": 232,
   "metadata": {},
   "outputs": [
    {
     "data": {
      "text/plain": [
       "dict_keys(['ISIN', 'Company_Name', 'Company_URL', 'ETF_URL', 'Domicile', 'Index_Name', 'Yield', 'Dividend_Paying_Frequency', 'Inception_Date', 'Max_Annual_Mgmt_Charge', 'Ongoing_Charge', 'Date_Ongoing_Charge', 'NetExpenseRatio', 'AnnualHoldingsTurnover', 'TotalAssets', 'Average_Mkt_Cap_Mil', 'Market_Capitalisation', 'Asset_Allocation', 'World_Regions', 'Sector_Weights', 'Fixed_Income', 'Holdings_Count', 'Top_10_Holdings', 'Holdings', 'Valuations_Growth', 'MorningStar', 'Performance'])"
      ]
     },
     "execution_count": 232,
     "metadata": {},
     "output_type": "execute_result"
    }
   ],
   "source": [
    "fundemental_data.keys()\n",
    "fundemental_data['General'].keys()\n",
    "fundemental_data['Technicals'].keys()\n",
    "fundemental_data['ETF_Data'].keys()"
   ]
  },
  {
   "cell_type": "code",
   "execution_count": 220,
   "metadata": {},
   "outputs": [],
   "source": [
    "def get_fundementals(tickers): \n",
    "\n",
    "    # pulls fundementals and wrangles data into multiple dfs\n",
    "\n",
    "    raw_data = {}\n",
    "    single_ticker_clean_data = {}\n",
    "    all_clean_data = {}\n",
    "\n",
    "\n",
    "    columns = ['ISIN', 'Company_Name', 'Company_URL', 'ETF_URL', 'Domicile',\n",
    "        'Index_Name', 'Yield', 'Dividend_Paying_Frequency', 'Inception_Date',\n",
    "        'Max_Annual_Mgmt_Charge', 'Ongoing_Charge', 'Date_Ongoing_Charge',\n",
    "        'NetExpenseRatio', 'AnnualHoldingsTurnover', 'TotalAssets', 'Holdings_Count',\n",
    "        'Average_Mkt_Cap_Mil']\n",
    "\n",
    "    for i in range(len(tickers)): \n",
    "\n",
    "        r = requests.get('https://eodhistoricaldata.com/api/fundamentals/' + tickers[i] + '.US', \n",
    "            params={'api_token': '63dc0e2f4efc43.34327983', 'fmt': 'json'}\n",
    "            )\n",
    "        data = r.json()\n",
    "        \n",
    "        r.close()\n",
    "\n",
    "        raw_data[tickers[i]] = data    \n",
    "\n",
    "        a = pd.Series(raw_data[tickers[i]]['General'])\n",
    "\n",
    "        b = pd.Series([raw_data[tickers[i]]['ETF_Data'][name] for name in columns],\n",
    "            index=[name for name in columns])\n",
    "\n",
    "        # c = pd.DataFrame([d[tickers[i]]['ETF_Data']['Market_Capitalisation']])#,\n",
    "        # index = [d[tickers[i]]['ETF_Data']['Market_Capitalisation'].keys()])\n",
    "        # c = pd.Series(d[symbol]['ETF_Data']['Market_Capitalisation'],\n",
    "        #  index = ['Market_Capitalisation'])\n",
    "\n",
    "\n",
    "        c = pd.Series(raw_data[tickers[i]]['ETF_Data']['MorningStar'])\n",
    "\n",
    "        # d = pd.DataFrame(d[tickers[i]]['ETF_Data']['Performance'].items(),\n",
    "        #     index = d[tickers[i]]['ETF_Data']['Performance'].keys()).drop(0, axis=1)\n",
    "        # d = pd.DataFrame(d[symbol]['ETF_Data']['Performance'].items(),\n",
    "        #  index = d[symbol]['ETF_Data']['Performance'].keys()).drop(0, axis=1)\n",
    "        \n",
    "        \n",
    "        # e = pd.Series(d[symbol]['Technicals'])\n",
    "        # e = pd.Series(d[tickers[i]]['Technicals'].items(), \n",
    "        #     index = d[tickers[i]]['Technicals'].keys()).drop(0, axis=1)\n",
    "\n",
    "        single_ticker_clean_data['general'] = pd.DataFrame(pd.concat([a, b, c]), columns = ['data'])\n",
    "\n",
    "\n",
    "        single_ticker_clean_data['asset_allocation'] = pd.DataFrame(raw_data[tickers[i]]['ETF_Data']['Asset_Allocation'])\n",
    "        region_weights_df = pd.DataFrame(raw_data[tickers[i]]['ETF_Data']['World_Regions'])\n",
    "        sector_weights_df = pd.DataFrame(raw_data[tickers[i]]['ETF_Data']['Sector_Weights'])\n",
    "        single_ticker_clean_data['fixed_income'] = pd.DataFrame(raw_data[tickers[i]]['ETF_Data']['Fixed_Income'])\n",
    "        single_ticker_clean_data['top_10_holdings'] = pd.DataFrame(raw_data[tickers[i]]['ETF_Data']['Top_10_Holdings'].values(), index = raw_data[tickers[i]]['ETF_Data']['Top_10_Holdings'].keys())\n",
    "        single_ticker_clean_data['holdings'] = pd.DataFrame(raw_data[tickers[i]]['ETF_Data']['Holdings'].values(), index = raw_data[tickers[i]]['ETF_Data']['Holdings'].keys())\n",
    "        single_ticker_clean_data['valuations_growth'] = pd.DataFrame(raw_data[tickers[i]]['ETF_Data']['Valuations_Growth']).T\n",
    "\n",
    "        placeholder = {}\n",
    "        placeholder['region_weights'] = region_weights_df\n",
    "        placeholder['sector_weights'] = sector_weights_df\n",
    "        weights_df = pd.concat(placeholder.values(), axis=1, keys=placeholder.keys())\n",
    "        single_ticker_clean_data['weights'] = weights_df.copy()\n",
    "\n",
    "        all_clean_data[tickers[i]] = single_ticker_clean_data\n",
    "\n",
    "\n",
    "    return all_clean_data, single_ticker_clean_data"
   ]
  },
  {
   "cell_type": "code",
   "execution_count": 221,
   "metadata": {},
   "outputs": [],
   "source": [
    "# # placeholder tickers\n",
    "tickers = ['SPY', 'QQQ']\n",
    "\n",
    "# # get fundemental data\n",
    "fundemental_data, single_ticker = get_fundementals(tickers)"
   ]
  },
  {
   "cell_type": "code",
   "execution_count": 226,
   "metadata": {},
   "outputs": [
    {
     "data": {
      "text/plain": [
       "dict"
      ]
     },
     "execution_count": 226,
     "metadata": {},
     "output_type": "execute_result"
    }
   ],
   "source": [
    "#single_ticker['general']\n",
    "\n",
    "type(fundemental_data['QQQ'])"
   ]
  },
  {
   "cell_type": "code",
   "execution_count": 37,
   "metadata": {},
   "outputs": [],
   "source": [
    "def test(tickers): \n",
    "\n",
    "    d = {}\n",
    "\n",
    "    for i in range(len(tickers)): \n",
    "\n",
    "        r = requests.get('https://eodhistoricaldata.com/api/fundamentals/' + tickers[i] + '.US', \n",
    "            params={'api_token': '63dc0e2f4efc43.34327983', 'fmt': 'json'}\n",
    "            )\n",
    "        data = r.json()\n",
    "        \n",
    "        r.close()\n",
    "        return data"
   ]
  },
  {
   "cell_type": "code",
   "execution_count": 61,
   "metadata": {},
   "outputs": [],
   "source": [
    "tickers = ['SPY', 'QQQ']\n",
    "fundemental_data = test(tickers)"
   ]
  },
  {
   "cell_type": "code",
   "execution_count": 62,
   "metadata": {},
   "outputs": [
    {
     "data": {
      "text/plain": [
       "dict_keys(['ISIN', 'Company_Name', 'Company_URL', 'ETF_URL', 'Domicile', 'Index_Name', 'Yield', 'Dividend_Paying_Frequency', 'Inception_Date', 'Max_Annual_Mgmt_Charge', 'Ongoing_Charge', 'Date_Ongoing_Charge', 'NetExpenseRatio', 'AnnualHoldingsTurnover', 'TotalAssets', 'Average_Mkt_Cap_Mil', 'Market_Capitalisation', 'Asset_Allocation', 'World_Regions', 'Sector_Weights', 'Fixed_Income', 'Holdings_Count', 'Top_10_Holdings', 'Holdings', 'Valuations_Growth', 'MorningStar', 'Performance'])"
      ]
     },
     "execution_count": 62,
     "metadata": {},
     "output_type": "execute_result"
    }
   ],
   "source": [
    "#fundemental_data.keys()\n",
    "fundemental_data['ETF_Data'].keys()"
   ]
  },
  {
   "attachments": {},
   "cell_type": "markdown",
   "metadata": {},
   "source": [
    "### Stock Fundementals"
   ]
  },
  {
   "cell_type": "code",
   "execution_count": null,
   "metadata": {},
   "outputs": [],
   "source": [
    "def test(tickers): \n",
    "\n",
    "    d = {}\n",
    "\n",
    "    for i in range(len(tickers)): \n",
    "\n",
    "        r = requests.get('https://eodhistoricaldata.com/api/fundamentals/' + tickers[i] + '.US', \n",
    "            params={'api_token': '63dc0e2f4efc43.34327983', 'fmt': 'json'}\n",
    "            )\n",
    "        data = r.json()\n",
    "        \n",
    "        r.close()\n",
    "        return data"
   ]
  },
  {
   "cell_type": "code",
   "execution_count": null,
   "metadata": {},
   "outputs": [],
   "source": [
    "tickers = ['AAPL']\n",
    "fundemental_data = test(tickers)"
   ]
  },
  {
   "cell_type": "code",
   "execution_count": null,
   "metadata": {},
   "outputs": [],
   "source": [
    "fundemental_data.keys()"
   ]
  },
  {
   "cell_type": "code",
   "execution_count": null,
   "metadata": {},
   "outputs": [],
   "source": [
    "# officers = fundemental_data['General'].pop('Officers', None)\n",
    "# listings = fundemental_data['General'].pop('Listings', None)\n",
    "# address = fundemental_data['General'].pop('AddressData', None)\n",
    "# pd.Series(fundemental_data['General'])\n",
    "# pd.Series(fundemental_data['Highlights'])\n",
    "# pd.Series(fundemental_data['Valuation'])\n",
    "# pd.Series(fundemental_data['SharesStats'])\n",
    "# pd.Series(fundemental_data['Technicals'])\n",
    "# NumberDividendsByYear = fundemental_data['SplitsDividends'].pop('NumberDividendsByYear', None)\n",
    "# pd.Series(fundemental_data['SplitsDividends'])\n",
    "# pd.Series(fundemental_data['AnalystRatings'])\n",
    "# pd.DataFrame(fundemental_data['Holders']['Institutions']).T.set_index(['name'])\n",
    "# pd.DataFrame(fundemental_data['Holders']['Funds']).T.set_index(['name'])\n",
    "# pd.DataFrame(fundemental_data['InsiderTransactions']).T.set_index(['date'])\n",
    "# pd.DataFrame(fundemental_data['outstandingShares']['annual']).T.set_index('dateFormatted')\n",
    "# pd.DataFrame(fundemental_data['outstandingShares']['quarterly']).T.set_index('dateFormatted')\n",
    "# # join on date\n",
    "# pd.DataFrame(fundemental_data['Earnings']['History']).T\n",
    "# pd.DataFrame(fundemental_data['Earnings']['Trend']).T\n",
    "# pd.DataFrame(fundemental_data['Earnings']['Annual']).T\n",
    "# # join on date\n",
    "# pd.DataFrame(fundemental_data['Financials']['Balance_Sheet']['quarterly']).T\n",
    "# pd.DataFrame(fundemental_data['Financials']['Cash_Flow']['quarterly']).T\n",
    "# pd.DataFrame(fundemental_data['Financials']['Income_Statement']['quarterly']).T\n",
    "# pd.DataFrame(fundemental_data['Financials']['Balance_Sheet']['yearly']).T\n",
    "# pd.DataFrame(fundemental_data['Financials']['Cash_Flow']['yearly']).T\n",
    "# pd.DataFrame(fundemental_data['Financials']['Income_Statement']['yearly']).T"
   ]
  },
  {
   "cell_type": "code",
   "execution_count": null,
   "metadata": {},
   "outputs": [],
   "source": []
  }
 ],
 "metadata": {
  "kernelspec": {
   "display_name": "honors-thesis",
   "language": "python",
   "name": "python3"
  },
  "language_info": {
   "codemirror_mode": {
    "name": "ipython",
    "version": 3
   },
   "file_extension": ".py",
   "mimetype": "text/x-python",
   "name": "python",
   "nbconvert_exporter": "python",
   "pygments_lexer": "ipython3",
   "version": "3.10.9"
  },
  "orig_nbformat": 4,
  "vscode": {
   "interpreter": {
    "hash": "5cec9fab241fb47ace68fb2f1a373c81bce58fef94d497d1b6d3a75b16829e6c"
   }
  }
 },
 "nbformat": 4,
 "nbformat_minor": 2
}
