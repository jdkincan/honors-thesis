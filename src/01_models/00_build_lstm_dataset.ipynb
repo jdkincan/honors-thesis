{
 "cells": [
  {
   "attachments": {},
   "cell_type": "markdown",
   "metadata": {},
   "source": [
    "# Creating a Dataset Formatted for RNNs"
   ]
  },
  {
   "attachments": {},
   "cell_type": "markdown",
   "metadata": {},
   "source": [
    "## Imports & Settings"
   ]
  },
  {
   "cell_type": "code",
   "execution_count": 22,
   "metadata": {},
   "outputs": [],
   "source": [
    "import warnings\n",
    "warnings.filterwarnings('ignore')\n",
    "\n",
    "from pathlib import Path\n",
    "\n",
    "import numpy as np\n",
    "import pandas as pd\n",
    "\n",
    "np.random.seed(42)\n",
    "\n",
    "idx = pd.IndexSlice"
   ]
  },
  {
   "attachments": {},
   "cell_type": "markdown",
   "metadata": {},
   "source": [
    "## Build daily dataset"
   ]
  },
  {
   "cell_type": "code",
   "execution_count": 23,
   "metadata": {},
   "outputs": [],
   "source": [
    "DATA_DIR = Path('..', '00_data')"
   ]
  },
  {
   "cell_type": "code",
   "execution_count": 24,
   "metadata": {},
   "outputs": [
    {
     "name": "stdout",
     "output_type": "stream",
     "text": [
      "<class 'pandas.core.frame.DataFrame'>\n",
      "MultiIndex: 1234632 entries, ('AAPL', '2013-01-02') to ('NWS', '2022-12-30')\n",
      "Data columns (total 2 columns):\n",
      " #   Column          Non-Null Count    Dtype  \n",
      "---  ------          --------------    -----  \n",
      " 0   adjusted_close  1234632 non-null  float64\n",
      " 1   volume          1234632 non-null  int64  \n",
      "dtypes: float64(1), int64(1)\n",
      "memory usage: 24.2+ MB\n"
     ]
    }
   ],
   "source": [
    "prices = (pd.read_hdf(DATA_DIR / 'assets_v1.h5', 'stocks/prices/daily')\n",
    "          .loc[idx[:, '2013':'2023'], ['adjusted_close', 'volume']])\n",
    "prices.info()"
   ]
  },
  {
   "attachments": {},
   "cell_type": "markdown",
   "metadata": {},
   "source": [
    "### Select most traded stocks"
   ]
  },
  {
   "cell_type": "code",
   "execution_count": 25,
   "metadata": {},
   "outputs": [],
   "source": [
    "prices.index.names = ['ticker', 'date']"
   ]
  },
  {
   "cell_type": "code",
   "execution_count": 28,
   "metadata": {},
   "outputs": [
    {
     "name": "stdout",
     "output_type": "stream",
     "text": [
      "<class 'pandas.core.frame.DataFrame'>\n",
      "Index: 2518 entries, 2022-12-30 to 2013-01-02\n",
      "Columns: 473 entries, AAPL to ROL\n",
      "dtypes: float64(473)\n",
      "memory usage: 9.1+ MB\n"
     ]
    }
   ],
   "source": [
    "n_dates = len(prices.index.unique('date'))\n",
    "dollar_vol = (prices.adjusted_close.mul(prices.volume)\n",
    "              .unstack('ticker')\n",
    "              .dropna(thresh=int(.95 * n_dates), axis=1)\n",
    "              .rank(ascending=False, axis=1)\n",
    "              .stack('ticker'))\n",
    "\n",
    "most_traded = dollar_vol.groupby(level='ticker').mean().nsmallest(500).index\n",
    "\n",
    "returns = (prices.loc[idx[most_traded, :], 'adjusted_close']\n",
    "           .unstack('ticker')\n",
    "           .pct_change()\n",
    "           .sort_index(ascending=False))\n",
    "returns.info()"
   ]
  },
  {
   "attachments": {},
   "cell_type": "markdown",
   "metadata": {},
   "source": [
    "### Stack 21-day time series"
   ]
  },
  {
   "cell_type": "code",
   "execution_count": 30,
   "metadata": {},
   "outputs": [],
   "source": [
    "n = len(returns)\n",
    "T = 21 # days\n",
    "tcols = list(range(T))\n",
    "tickers = returns.columns"
   ]
  },
  {
   "cell_type": "code",
   "execution_count": 31,
   "metadata": {},
   "outputs": [
    {
     "name": "stdout",
     "output_type": "stream",
     "text": [
      "<class 'pandas.core.frame.DataFrame'>\n",
      "MultiIndex: 1180133 entries, ('A', '2013-02-04') to ('ZTS', '2022-12-30')\n",
      "Data columns (total 22 columns):\n",
      " #   Column  Non-Null Count    Dtype  \n",
      "---  ------  --------------    -----  \n",
      " 0   label   1180133 non-null  float64\n",
      " 1   1       1180133 non-null  float64\n",
      " 2   2       1180133 non-null  float64\n",
      " 3   3       1180133 non-null  float64\n",
      " 4   4       1180133 non-null  float64\n",
      " 5   5       1180133 non-null  float64\n",
      " 6   6       1180133 non-null  float64\n",
      " 7   7       1180133 non-null  float64\n",
      " 8   8       1180133 non-null  float64\n",
      " 9   9       1180133 non-null  float64\n",
      " 10  10      1180133 non-null  float64\n",
      " 11  11      1180133 non-null  float64\n",
      " 12  12      1180133 non-null  float64\n",
      " 13  13      1180133 non-null  float64\n",
      " 14  14      1180133 non-null  float64\n",
      " 15  15      1180133 non-null  float64\n",
      " 16  16      1180133 non-null  float64\n",
      " 17  17      1180133 non-null  float64\n",
      " 18  18      1180133 non-null  float64\n",
      " 19  19      1180133 non-null  float64\n",
      " 20  20      1180133 non-null  float64\n",
      " 21  21      1180133 non-null  float64\n",
      "dtypes: float64(22)\n",
      "memory usage: 202.7+ MB\n"
     ]
    }
   ],
   "source": [
    "data = pd.DataFrame()\n",
    "for i in range(n-T-1):\n",
    "    df = returns.iloc[i:i+T+1]\n",
    "    date = df.index.max()\n",
    "    data = pd.concat([data, \n",
    "                      df.reset_index(drop=True).T\n",
    "                      .assign(date=date, ticker=tickers)\n",
    "                      .set_index(['ticker', 'date'])])\n",
    "data = data.rename(columns={0: 'label'}).sort_index().dropna()\n",
    "data.loc[:, tcols[1:]] = (data.loc[:, tcols[1:]].apply(lambda x: x.clip(lower=x.quantile(.01),\n",
    "                                                  upper=x.quantile(.99))))\n",
    "data.info()"
   ]
  },
  {
   "cell_type": "code",
   "execution_count": 32,
   "metadata": {},
   "outputs": [
    {
     "data": {
      "text/plain": [
       "(1180133, 22)"
      ]
     },
     "execution_count": 32,
     "metadata": {},
     "output_type": "execute_result"
    }
   ],
   "source": [
    "data.shape"
   ]
  },
  {
   "cell_type": "code",
   "execution_count": 35,
   "metadata": {},
   "outputs": [],
   "source": [
    "data.to_hdf('lstm_data.h5', 'returns_daily')"
   ]
  },
  {
   "cell_type": "code",
   "execution_count": 36,
   "metadata": {},
   "outputs": [
    {
     "name": "stdout",
     "output_type": "stream",
     "text": [
      "<class 'pandas.io.pytables.HDFStore'>\n",
      "File path: lstm_data.h5\n",
      "/returns_daily            frame        (shape->[1180133,1])\n"
     ]
    }
   ],
   "source": [
    "with pd.HDFStore('lstm_data.h5') as store:\n",
    "    print(store.info())"
   ]
  },
  {
   "attachments": {},
   "cell_type": "markdown",
   "metadata": {},
   "source": [
    "## Build weekly dataset"
   ]
  },
  {
   "attachments": {},
   "cell_type": "markdown",
   "metadata": {},
   "source": [
    "We load the Quandl adjusted stock price data:"
   ]
  },
  {
   "cell_type": "code",
   "execution_count": 58,
   "metadata": {},
   "outputs": [
    {
     "name": "stdout",
     "output_type": "stream",
     "text": [
      "<class 'pandas.core.frame.DataFrame'>\n",
      "Index: 4566 entries, 2005-01-03 to 2023-02-22\n",
      "Columns: 503 entries, AAPL to NWS\n",
      "dtypes: float64(503)\n",
      "memory usage: 17.6+ MB\n"
     ]
    }
   ],
   "source": [
    "prices = (pd.read_hdf(DATA_DIR / 'assets_v1.h5', 'stocks/prices/daily')\n",
    "          .adjusted_close.swaplevel()\n",
    "          .unstack().loc['2005':])\n",
    "prices.info()"
   ]
  },
  {
   "attachments": {},
   "cell_type": "markdown",
   "metadata": {},
   "source": [
    "### Resample to weekly frequency"
   ]
  },
  {
   "attachments": {},
   "cell_type": "markdown",
   "metadata": {},
   "source": [
    "We start by generating weekly returns for 421 stocks without missing data for the 2007-2023 period, as follows:\n",
    "\n",
    "This could present a problem due to leaving out influential stocks like tesla, but we will try it for now."
   ]
  },
  {
   "cell_type": "code",
   "execution_count": 60,
   "metadata": {},
   "outputs": [
    {
     "name": "stdout",
     "output_type": "stream",
     "text": [
      "<class 'pandas.core.frame.DataFrame'>\n",
      "DatetimeIndex: 896 entries, 2023-02-26 to 2006-01-01\n",
      "Freq: -1W-SUN\n",
      "Columns: 421 entries, AAPL to DISH\n",
      "dtypes: float64(421)\n",
      "memory usage: 2.9 MB\n"
     ]
    }
   ],
   "source": [
    "prices.index = pd.to_datetime(prices.index)\n",
    "\n",
    "returns = (prices\n",
    "           .resample('W')\n",
    "           .last()\n",
    "           .pct_change()\n",
    "           .loc['2006': '2023']\n",
    "           .dropna(axis=1)\n",
    "           .sort_index(ascending=False))\n",
    "returns.info()"
   ]
  },
  {
   "cell_type": "code",
   "execution_count": 61,
   "metadata": {},
   "outputs": [
    {
     "data": {
      "text/html": [
       "<div>\n",
       "<style scoped>\n",
       "    .dataframe tbody tr th:only-of-type {\n",
       "        vertical-align: middle;\n",
       "    }\n",
       "\n",
       "    .dataframe tbody tr th {\n",
       "        vertical-align: top;\n",
       "    }\n",
       "\n",
       "    .dataframe thead th {\n",
       "        text-align: right;\n",
       "    }\n",
       "</style>\n",
       "<table border=\"1\" class=\"dataframe\">\n",
       "  <thead>\n",
       "    <tr style=\"text-align: right;\">\n",
       "      <th></th>\n",
       "      <th>AAPL</th>\n",
       "      <th>MSFT</th>\n",
       "      <th>AMZN</th>\n",
       "      <th>GOOGL</th>\n",
       "      <th>BRK-B</th>\n",
       "      <th>NVDA</th>\n",
       "      <th>UNH</th>\n",
       "      <th>XOM</th>\n",
       "      <th>JNJ</th>\n",
       "      <th>JPM</th>\n",
       "      <th>...</th>\n",
       "      <th>AIZ</th>\n",
       "      <th>DXC</th>\n",
       "      <th>ALK</th>\n",
       "      <th>MHK</th>\n",
       "      <th>NWL</th>\n",
       "      <th>RL</th>\n",
       "      <th>LNC</th>\n",
       "      <th>DVA</th>\n",
       "      <th>LUMN</th>\n",
       "      <th>DISH</th>\n",
       "    </tr>\n",
       "    <tr>\n",
       "      <th>date</th>\n",
       "      <th></th>\n",
       "      <th></th>\n",
       "      <th></th>\n",
       "      <th></th>\n",
       "      <th></th>\n",
       "      <th></th>\n",
       "      <th></th>\n",
       "      <th></th>\n",
       "      <th></th>\n",
       "      <th></th>\n",
       "      <th></th>\n",
       "      <th></th>\n",
       "      <th></th>\n",
       "      <th></th>\n",
       "      <th></th>\n",
       "      <th></th>\n",
       "      <th></th>\n",
       "      <th></th>\n",
       "      <th></th>\n",
       "      <th></th>\n",
       "      <th></th>\n",
       "    </tr>\n",
       "  </thead>\n",
       "  <tbody>\n",
       "    <tr>\n",
       "      <th>2023-02-26</th>\n",
       "      <td>-0.023861</td>\n",
       "      <td>-0.025382</td>\n",
       "      <td>-0.014506</td>\n",
       "      <td>-0.028617</td>\n",
       "      <td>-0.015702</td>\n",
       "      <td>-0.029643</td>\n",
       "      <td>-0.019376</td>\n",
       "      <td>-0.013749</td>\n",
       "      <td>-0.016273</td>\n",
       "      <td>-0.025872</td>\n",
       "      <td>...</td>\n",
       "      <td>-0.014727</td>\n",
       "      <td>-0.024339</td>\n",
       "      <td>-0.032186</td>\n",
       "      <td>-0.054507</td>\n",
       "      <td>-0.048322</td>\n",
       "      <td>-0.029812</td>\n",
       "      <td>-0.044352</td>\n",
       "      <td>0.017157</td>\n",
       "      <td>-0.058524</td>\n",
       "      <td>-0.075618</td>\n",
       "    </tr>\n",
       "    <tr>\n",
       "      <th>2023-02-19</th>\n",
       "      <td>0.010198</td>\n",
       "      <td>-0.016700</td>\n",
       "      <td>-0.004200</td>\n",
       "      <td>-0.002326</td>\n",
       "      <td>-0.005324</td>\n",
       "      <td>0.005784</td>\n",
       "      <td>0.009772</td>\n",
       "      <td>-0.059022</td>\n",
       "      <td>-0.003740</td>\n",
       "      <td>0.008508</td>\n",
       "      <td>...</td>\n",
       "      <td>-0.007496</td>\n",
       "      <td>-0.004844</td>\n",
       "      <td>-0.009883</td>\n",
       "      <td>-0.015894</td>\n",
       "      <td>0.008802</td>\n",
       "      <td>0.038575</td>\n",
       "      <td>0.000296</td>\n",
       "      <td>0.010231</td>\n",
       "      <td>-0.007576</td>\n",
       "      <td>0.035113</td>\n",
       "    </tr>\n",
       "    <tr>\n",
       "      <th>2023-02-12</th>\n",
       "      <td>-0.021097</td>\n",
       "      <td>0.018386</td>\n",
       "      <td>-0.055905</td>\n",
       "      <td>-0.097442</td>\n",
       "      <td>0.004473</td>\n",
       "      <td>0.007820</td>\n",
       "      <td>0.047095</td>\n",
       "      <td>0.064778</td>\n",
       "      <td>-0.014944</td>\n",
       "      <td>-0.000354</td>\n",
       "      <td>...</td>\n",
       "      <td>-0.001646</td>\n",
       "      <td>0.000346</td>\n",
       "      <td>-0.072751</td>\n",
       "      <td>-0.075762</td>\n",
       "      <td>-0.083747</td>\n",
       "      <td>-0.061006</td>\n",
       "      <td>-0.041395</td>\n",
       "      <td>-0.028077</td>\n",
       "      <td>-0.247148</td>\n",
       "      <td>-0.093501</td>\n",
       "    </tr>\n",
       "    <tr>\n",
       "      <th>2023-02-05</th>\n",
       "      <td>0.058727</td>\n",
       "      <td>0.041062</td>\n",
       "      <td>0.011248</td>\n",
       "      <td>0.054443</td>\n",
       "      <td>-0.002135</td>\n",
       "      <td>0.036091</td>\n",
       "      <td>-0.028865</td>\n",
       "      <td>-0.031917</td>\n",
       "      <td>-0.021518</td>\n",
       "      <td>0.005487</td>\n",
       "      <td>...</td>\n",
       "      <td>0.025163</td>\n",
       "      <td>0.021931</td>\n",
       "      <td>0.048020</td>\n",
       "      <td>0.061885</td>\n",
       "      <td>0.017677</td>\n",
       "      <td>0.024996</td>\n",
       "      <td>0.028280</td>\n",
       "      <td>0.053358</td>\n",
       "      <td>-0.005671</td>\n",
       "      <td>0.047222</td>\n",
       "    </tr>\n",
       "    <tr>\n",
       "      <th>2023-01-29</th>\n",
       "      <td>0.058461</td>\n",
       "      <td>0.033053</td>\n",
       "      <td>0.051311</td>\n",
       "      <td>0.013773</td>\n",
       "      <td>-0.002259</td>\n",
       "      <td>0.141600</td>\n",
       "      <td>-0.001377</td>\n",
       "      <td>0.019939</td>\n",
       "      <td>-0.003022</td>\n",
       "      <td>0.038792</td>\n",
       "      <td>...</td>\n",
       "      <td>0.011171</td>\n",
       "      <td>-0.004577</td>\n",
       "      <td>0.024087</td>\n",
       "      <td>0.029319</td>\n",
       "      <td>0.052492</td>\n",
       "      <td>0.014622</td>\n",
       "      <td>0.080315</td>\n",
       "      <td>0.010334</td>\n",
       "      <td>0.013410</td>\n",
       "      <td>0.035971</td>\n",
       "    </tr>\n",
       "    <tr>\n",
       "      <th>2006-01-29</th>\n",
       "      <td>-0.053353</td>\n",
       "      <td>0.052253</td>\n",
       "      <td>0.029599</td>\n",
       "      <td>0.085182</td>\n",
       "      <td>-0.001360</td>\n",
       "      <td>0.055698</td>\n",
       "      <td>-0.015805</td>\n",
       "      <td>0.012558</td>\n",
       "      <td>-0.034375</td>\n",
       "      <td>0.044675</td>\n",
       "      <td>...</td>\n",
       "      <td>0.029892</td>\n",
       "      <td>0.004939</td>\n",
       "      <td>0.013307</td>\n",
       "      <td>0.000354</td>\n",
       "      <td>-0.018376</td>\n",
       "      <td>0.073410</td>\n",
       "      <td>0.003223</td>\n",
       "      <td>0.000729</td>\n",
       "      <td>0.002382</td>\n",
       "      <td>-0.004296</td>\n",
       "    </tr>\n",
       "    <tr>\n",
       "      <th>2006-01-22</th>\n",
       "      <td>-0.111004</td>\n",
       "      <td>-0.028687</td>\n",
       "      <td>-0.010811</td>\n",
       "      <td>-0.143244</td>\n",
       "      <td>-0.003388</td>\n",
       "      <td>0.030577</td>\n",
       "      <td>-0.023958</td>\n",
       "      <td>-0.007217</td>\n",
       "      <td>-0.016499</td>\n",
       "      <td>-0.046841</td>\n",
       "      <td>...</td>\n",
       "      <td>-0.005630</td>\n",
       "      <td>-0.059883</td>\n",
       "      <td>-0.053240</td>\n",
       "      <td>-0.027235</td>\n",
       "      <td>0.002092</td>\n",
       "      <td>-0.054088</td>\n",
       "      <td>-0.028715</td>\n",
       "      <td>0.011431</td>\n",
       "      <td>0.015991</td>\n",
       "      <td>0.000714</td>\n",
       "    </tr>\n",
       "    <tr>\n",
       "      <th>2006-01-15</th>\n",
       "      <td>0.121761</td>\n",
       "      <td>0.010402</td>\n",
       "      <td>-0.072488</td>\n",
       "      <td>0.001261</td>\n",
       "      <td>-0.006061</td>\n",
       "      <td>0.040889</td>\n",
       "      <td>-0.031161</td>\n",
       "      <td>0.025910</td>\n",
       "      <td>-0.012460</td>\n",
       "      <td>-0.002499</td>\n",
       "      <td>...</td>\n",
       "      <td>0.003390</td>\n",
       "      <td>-0.025376</td>\n",
       "      <td>-0.099836</td>\n",
       "      <td>-0.017389</td>\n",
       "      <td>-0.004582</td>\n",
       "      <td>-0.007969</td>\n",
       "      <td>0.000553</td>\n",
       "      <td>-0.020762</td>\n",
       "      <td>-0.010742</td>\n",
       "      <td>-0.036257</td>\n",
       "    </tr>\n",
       "    <tr>\n",
       "      <th>2006-01-08</th>\n",
       "      <td>0.061319</td>\n",
       "      <td>0.029065</td>\n",
       "      <td>0.015270</td>\n",
       "      <td>0.122458</td>\n",
       "      <td>0.011753</td>\n",
       "      <td>0.117068</td>\n",
       "      <td>0.012230</td>\n",
       "      <td>0.058039</td>\n",
       "      <td>0.041598</td>\n",
       "      <td>0.016918</td>\n",
       "      <td>...</td>\n",
       "      <td>0.017705</td>\n",
       "      <td>0.089462</td>\n",
       "      <td>-0.012876</td>\n",
       "      <td>0.018165</td>\n",
       "      <td>0.009675</td>\n",
       "      <td>0.005878</td>\n",
       "      <td>0.031189</td>\n",
       "      <td>0.093799</td>\n",
       "      <td>0.010248</td>\n",
       "      <td>0.065492</td>\n",
       "    </tr>\n",
       "    <tr>\n",
       "      <th>2006-01-01</th>\n",
       "      <td>-0.019869</td>\n",
       "      <td>-0.018392</td>\n",
       "      <td>-0.042056</td>\n",
       "      <td>-0.037297</td>\n",
       "      <td>-0.005926</td>\n",
       "      <td>-0.026091</td>\n",
       "      <td>-0.023724</td>\n",
       "      <td>-0.016286</td>\n",
       "      <td>-0.016529</td>\n",
       "      <td>-0.012689</td>\n",
       "      <td>...</td>\n",
       "      <td>0.006481</td>\n",
       "      <td>0.021383</td>\n",
       "      <td>0.010749</td>\n",
       "      <td>-0.010917</td>\n",
       "      <td>-0.009169</td>\n",
       "      <td>-0.003891</td>\n",
       "      <td>-0.015959</td>\n",
       "      <td>-0.005303</td>\n",
       "      <td>-0.008670</td>\n",
       "      <td>-0.007669</td>\n",
       "    </tr>\n",
       "  </tbody>\n",
       "</table>\n",
       "<p>10 rows × 421 columns</p>\n",
       "</div>"
      ],
      "text/plain": [
       "                AAPL      MSFT      AMZN     GOOGL     BRK-B      NVDA  \\\n",
       "date                                                                     \n",
       "2023-02-26 -0.023861 -0.025382 -0.014506 -0.028617 -0.015702 -0.029643   \n",
       "2023-02-19  0.010198 -0.016700 -0.004200 -0.002326 -0.005324  0.005784   \n",
       "2023-02-12 -0.021097  0.018386 -0.055905 -0.097442  0.004473  0.007820   \n",
       "2023-02-05  0.058727  0.041062  0.011248  0.054443 -0.002135  0.036091   \n",
       "2023-01-29  0.058461  0.033053  0.051311  0.013773 -0.002259  0.141600   \n",
       "2006-01-29 -0.053353  0.052253  0.029599  0.085182 -0.001360  0.055698   \n",
       "2006-01-22 -0.111004 -0.028687 -0.010811 -0.143244 -0.003388  0.030577   \n",
       "2006-01-15  0.121761  0.010402 -0.072488  0.001261 -0.006061  0.040889   \n",
       "2006-01-08  0.061319  0.029065  0.015270  0.122458  0.011753  0.117068   \n",
       "2006-01-01 -0.019869 -0.018392 -0.042056 -0.037297 -0.005926 -0.026091   \n",
       "\n",
       "                 UNH       XOM       JNJ       JPM  ...       AIZ       DXC  \\\n",
       "date                                                ...                       \n",
       "2023-02-26 -0.019376 -0.013749 -0.016273 -0.025872  ... -0.014727 -0.024339   \n",
       "2023-02-19  0.009772 -0.059022 -0.003740  0.008508  ... -0.007496 -0.004844   \n",
       "2023-02-12  0.047095  0.064778 -0.014944 -0.000354  ... -0.001646  0.000346   \n",
       "2023-02-05 -0.028865 -0.031917 -0.021518  0.005487  ...  0.025163  0.021931   \n",
       "2023-01-29 -0.001377  0.019939 -0.003022  0.038792  ...  0.011171 -0.004577   \n",
       "2006-01-29 -0.015805  0.012558 -0.034375  0.044675  ...  0.029892  0.004939   \n",
       "2006-01-22 -0.023958 -0.007217 -0.016499 -0.046841  ... -0.005630 -0.059883   \n",
       "2006-01-15 -0.031161  0.025910 -0.012460 -0.002499  ...  0.003390 -0.025376   \n",
       "2006-01-08  0.012230  0.058039  0.041598  0.016918  ...  0.017705  0.089462   \n",
       "2006-01-01 -0.023724 -0.016286 -0.016529 -0.012689  ...  0.006481  0.021383   \n",
       "\n",
       "                 ALK       MHK       NWL        RL       LNC       DVA  \\\n",
       "date                                                                     \n",
       "2023-02-26 -0.032186 -0.054507 -0.048322 -0.029812 -0.044352  0.017157   \n",
       "2023-02-19 -0.009883 -0.015894  0.008802  0.038575  0.000296  0.010231   \n",
       "2023-02-12 -0.072751 -0.075762 -0.083747 -0.061006 -0.041395 -0.028077   \n",
       "2023-02-05  0.048020  0.061885  0.017677  0.024996  0.028280  0.053358   \n",
       "2023-01-29  0.024087  0.029319  0.052492  0.014622  0.080315  0.010334   \n",
       "2006-01-29  0.013307  0.000354 -0.018376  0.073410  0.003223  0.000729   \n",
       "2006-01-22 -0.053240 -0.027235  0.002092 -0.054088 -0.028715  0.011431   \n",
       "2006-01-15 -0.099836 -0.017389 -0.004582 -0.007969  0.000553 -0.020762   \n",
       "2006-01-08 -0.012876  0.018165  0.009675  0.005878  0.031189  0.093799   \n",
       "2006-01-01  0.010749 -0.010917 -0.009169 -0.003891 -0.015959 -0.005303   \n",
       "\n",
       "                LUMN      DISH  \n",
       "date                            \n",
       "2023-02-26 -0.058524 -0.075618  \n",
       "2023-02-19 -0.007576  0.035113  \n",
       "2023-02-12 -0.247148 -0.093501  \n",
       "2023-02-05 -0.005671  0.047222  \n",
       "2023-01-29  0.013410  0.035971  \n",
       "2006-01-29  0.002382 -0.004296  \n",
       "2006-01-22  0.015991  0.000714  \n",
       "2006-01-15 -0.010742 -0.036257  \n",
       "2006-01-08  0.010248  0.065492  \n",
       "2006-01-01 -0.008670 -0.007669  \n",
       "\n",
       "[10 rows x 421 columns]"
      ]
     },
     "execution_count": 61,
     "metadata": {},
     "output_type": "execute_result"
    }
   ],
   "source": [
    "returns.head().append(returns.tail())"
   ]
  },
  {
   "attachments": {},
   "cell_type": "markdown",
   "metadata": {},
   "source": [
    "### Create & stack 52-week sequences"
   ]
  },
  {
   "attachments": {},
   "cell_type": "markdown",
   "metadata": {},
   "source": [
    "We'll use 52-week sequences, which we'll create in a stacked format:"
   ]
  },
  {
   "cell_type": "code",
   "execution_count": 62,
   "metadata": {},
   "outputs": [],
   "source": [
    "n = len(returns)\n",
    "T = 52 # weeks\n",
    "tcols = list(range(T))\n",
    "tickers = returns.columns"
   ]
  },
  {
   "cell_type": "code",
   "execution_count": 63,
   "metadata": {},
   "outputs": [
    {
     "name": "stdout",
     "output_type": "stream",
     "text": [
      "<class 'pandas.core.frame.DataFrame'>\n",
      "MultiIndex: 354903 entries, ('AAPL', Timestamp('2023-02-26 00:00:00')) to ('DISH', Timestamp('2007-01-07 00:00:00'))\n",
      "Data columns (total 53 columns):\n",
      " #   Column  Non-Null Count   Dtype  \n",
      "---  ------  --------------   -----  \n",
      " 0   0       354903 non-null  float64\n",
      " 1   1       354903 non-null  float64\n",
      " 2   2       354903 non-null  float64\n",
      " 3   3       354903 non-null  float64\n",
      " 4   4       354903 non-null  float64\n",
      " 5   5       354903 non-null  float64\n",
      " 6   6       354903 non-null  float64\n",
      " 7   7       354903 non-null  float64\n",
      " 8   8       354903 non-null  float64\n",
      " 9   9       354903 non-null  float64\n",
      " 10  10      354903 non-null  float64\n",
      " 11  11      354903 non-null  float64\n",
      " 12  12      354903 non-null  float64\n",
      " 13  13      354903 non-null  float64\n",
      " 14  14      354903 non-null  float64\n",
      " 15  15      354903 non-null  float64\n",
      " 16  16      354903 non-null  float64\n",
      " 17  17      354903 non-null  float64\n",
      " 18  18      354903 non-null  float64\n",
      " 19  19      354903 non-null  float64\n",
      " 20  20      354903 non-null  float64\n",
      " 21  21      354903 non-null  float64\n",
      " 22  22      354903 non-null  float64\n",
      " 23  23      354903 non-null  float64\n",
      " 24  24      354903 non-null  float64\n",
      " 25  25      354903 non-null  float64\n",
      " 26  26      354903 non-null  float64\n",
      " 27  27      354903 non-null  float64\n",
      " 28  28      354903 non-null  float64\n",
      " 29  29      354903 non-null  float64\n",
      " 30  30      354903 non-null  float64\n",
      " 31  31      354903 non-null  float64\n",
      " 32  32      354903 non-null  float64\n",
      " 33  33      354903 non-null  float64\n",
      " 34  34      354903 non-null  float64\n",
      " 35  35      354903 non-null  float64\n",
      " 36  36      354903 non-null  float64\n",
      " 37  37      354903 non-null  float64\n",
      " 38  38      354903 non-null  float64\n",
      " 39  39      354903 non-null  float64\n",
      " 40  40      354903 non-null  float64\n",
      " 41  41      354903 non-null  float64\n",
      " 42  42      354903 non-null  float64\n",
      " 43  43      354903 non-null  float64\n",
      " 44  44      354903 non-null  float64\n",
      " 45  45      354903 non-null  float64\n",
      " 46  46      354903 non-null  float64\n",
      " 47  47      354903 non-null  float64\n",
      " 48  48      354903 non-null  float64\n",
      " 49  49      354903 non-null  float64\n",
      " 50  50      354903 non-null  float64\n",
      " 51  51      354903 non-null  float64\n",
      " 52  52      354903 non-null  float64\n",
      "dtypes: float64(53)\n",
      "memory usage: 144.9+ MB\n"
     ]
    }
   ],
   "source": [
    "data = pd.DataFrame()\n",
    "for i in range(n-T-1):\n",
    "    df = returns.iloc[i:i+T+1]\n",
    "    date = df.index.max()    \n",
    "    data = pd.concat([data, (df.reset_index(drop=True).T\n",
    "                             .assign(date=date, ticker=tickers)\n",
    "                             .set_index(['ticker', 'date']))])\n",
    "data.info()"
   ]
  },
  {
   "cell_type": "code",
   "execution_count": 64,
   "metadata": {},
   "outputs": [],
   "source": [
    "data[tcols] = (data[tcols].apply(lambda x: x.clip(lower=x.quantile(.01),\n",
    "                                                  upper=x.quantile(.99))))"
   ]
  },
  {
   "cell_type": "code",
   "execution_count": 65,
   "metadata": {},
   "outputs": [],
   "source": [
    "data = data.rename(columns={0: 'fwd_returns'})"
   ]
  },
  {
   "cell_type": "code",
   "execution_count": 66,
   "metadata": {},
   "outputs": [],
   "source": [
    "data['label'] = (data['fwd_returns'] > 0).astype(int)"
   ]
  },
  {
   "cell_type": "code",
   "execution_count": 67,
   "metadata": {},
   "outputs": [
    {
     "data": {
      "text/plain": [
       "(354903, 54)"
      ]
     },
     "execution_count": 67,
     "metadata": {},
     "output_type": "execute_result"
    }
   ],
   "source": [
    "data.shape"
   ]
  },
  {
   "cell_type": "code",
   "execution_count": 68,
   "metadata": {},
   "outputs": [],
   "source": [
    "data.sort_index().to_hdf('lstm_data.h5', 'returns_weekly')"
   ]
  }
 ],
 "metadata": {
  "kernelspec": {
   "display_name": "ml4t",
   "language": "python",
   "name": "python3"
  },
  "language_info": {
   "codemirror_mode": {
    "name": "ipython",
    "version": 3
   },
   "file_extension": ".py",
   "mimetype": "text/x-python",
   "name": "python",
   "nbconvert_exporter": "python",
   "pygments_lexer": "ipython3",
   "version": "3.8.16"
  },
  "orig_nbformat": 4,
  "vscode": {
   "interpreter": {
    "hash": "434ef85c3fb5a296e505a484f164c3e4672a7a65819d5b3b14e63d027f7747a3"
   }
  }
 },
 "nbformat": 4,
 "nbformat_minor": 2
}
